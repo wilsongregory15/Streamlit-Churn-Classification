{
  "cells": [
    {
      "cell_type": "markdown",
      "id": "5c62d4f4",
      "metadata": {
        "id": "5c62d4f4"
      },
      "source": [
        "## Church Prediction Project Deployment\n",
        "\n",
        "##### Objective: Develop a machine learning model to predict church attendance and deploy it using a Streamlit app for real-time user interaction."
      ]
    },
    {
      "cell_type": "markdown",
      "id": "D9qjiZ7l609L",
      "metadata": {
        "id": "D9qjiZ7l609L"
      },
      "source": [
        "### Importing library and dataset"
      ]
    },
    {
      "cell_type": "code",
      "execution_count": 1,
      "id": "130528fc",
      "metadata": {
        "id": "130528fc"
      },
      "outputs": [],
      "source": [
        "import pandas as pd\n",
        "import numpy as np\n",
        "import seaborn as sns\n",
        "import matplotlib.pyplot as plt\n",
        "from sklearn.model_selection import train_test_split\n",
        "import warnings\n",
        "warnings.filterwarnings('ignore')"
      ]
    },
    {
      "cell_type": "code",
      "execution_count": 2,
      "id": "53f2b0f3",
      "metadata": {
        "id": "53f2b0f3"
      },
      "outputs": [],
      "source": [
        "df = pd.read_csv('data_C.csv')"
      ]
    },
    {
      "cell_type": "markdown",
      "id": "ooTNDP0G64qe",
      "metadata": {
        "id": "ooTNDP0G64qe"
      },
      "source": [
        "### Data understanding"
      ]
    },
    {
      "cell_type": "code",
      "execution_count": 3,
      "id": "4d77354e",
      "metadata": {
        "colab": {
          "base_uri": "https://localhost:8080/",
          "height": 244
        },
        "id": "4d77354e",
        "outputId": "050ca769-bddc-4fde-f1f8-234804937954"
      },
      "outputs": [
        {
          "data": {
            "application/vnd.google.colaboratory.intrinsic+json": {
              "summary": "{\n  \"name\": \"df\",\n  \"rows\": 41258,\n  \"fields\": [\n    {\n      \"column\": \"Unnamed: 0\",\n      \"properties\": {\n        \"dtype\": \"number\",\n        \"std\": 11910,\n        \"min\": 0,\n        \"max\": 41257,\n        \"num_unique_values\": 41258,\n        \"samples\": [\n          22930,\n          4280,\n          40587\n        ],\n        \"semantic_type\": \"\",\n        \"description\": \"\"\n      }\n    },\n    {\n      \"column\": \"id\",\n      \"properties\": {\n        \"dtype\": \"number\",\n        \"std\": 47642,\n        \"min\": 1,\n        \"max\": 165032,\n        \"num_unique_values\": 41258,\n        \"samples\": [\n          152618,\n          68411,\n          32608\n        ],\n        \"semantic_type\": \"\",\n        \"description\": \"\"\n      }\n    },\n    {\n      \"column\": \"CustomerId\",\n      \"properties\": {\n        \"dtype\": \"number\",\n        \"std\": 71363,\n        \"min\": 15565701,\n        \"max\": 15815690,\n        \"num_unique_values\": 13212,\n        \"samples\": [\n          15775804,\n          15701166,\n          15752839\n        ],\n        \"semantic_type\": \"\",\n        \"description\": \"\"\n      }\n    },\n    {\n      \"column\": \"Surname\",\n      \"properties\": {\n        \"dtype\": \"category\",\n        \"num_unique_values\": 2272,\n        \"samples\": [\n          \"Onyekaozulu\",\n          \"Glenny\",\n          \"Molle\"\n        ],\n        \"semantic_type\": \"\",\n        \"description\": \"\"\n      }\n    },\n    {\n      \"column\": \"CreditScore\",\n      \"properties\": {\n        \"dtype\": \"number\",\n        \"std\": 79.73629763639165,\n        \"min\": 350.0,\n        \"max\": 850.0,\n        \"num_unique_values\": 444,\n        \"samples\": [\n          446.0,\n          815.0,\n          633.0\n        ],\n        \"semantic_type\": \"\",\n        \"description\": \"\"\n      }\n    },\n    {\n      \"column\": \"Geography\",\n      \"properties\": {\n        \"dtype\": \"category\",\n        \"num_unique_values\": 3,\n        \"samples\": [\n          \"Spain\",\n          \"France\",\n          \"Germany\"\n        ],\n        \"semantic_type\": \"\",\n        \"description\": \"\"\n      }\n    },\n    {\n      \"column\": \"Gender\",\n      \"properties\": {\n        \"dtype\": \"category\",\n        \"num_unique_values\": 2,\n        \"samples\": [\n          \"Male\",\n          \"Female\"\n        ],\n        \"semantic_type\": \"\",\n        \"description\": \"\"\n      }\n    },\n    {\n      \"column\": \"Age\",\n      \"properties\": {\n        \"dtype\": \"number\",\n        \"std\": 8.947665292837156,\n        \"min\": 18.0,\n        \"max\": 92.0,\n        \"num_unique_values\": 71,\n        \"samples\": [\n          59.0,\n          50.0\n        ],\n        \"semantic_type\": \"\",\n        \"description\": \"\"\n      }\n    },\n    {\n      \"column\": \"Tenure\",\n      \"properties\": {\n        \"dtype\": \"number\",\n        \"std\": 2,\n        \"min\": 0,\n        \"max\": 10,\n        \"num_unique_values\": 11,\n        \"samples\": [\n          3,\n          4\n        ],\n        \"semantic_type\": \"\",\n        \"description\": \"\"\n      }\n    },\n    {\n      \"column\": \"Balance\",\n      \"properties\": {\n        \"dtype\": \"number\",\n        \"std\": 62795.53095016127,\n        \"min\": 0.0,\n        \"max\": 238387.56,\n        \"num_unique_values\": 11410,\n        \"samples\": [\n          131151.09,\n          106854.21\n        ],\n        \"semantic_type\": \"\",\n        \"description\": \"\"\n      }\n    },\n    {\n      \"column\": \"NumOfProducts\",\n      \"properties\": {\n        \"dtype\": \"number\",\n        \"std\": 0,\n        \"min\": 1,\n        \"max\": 4,\n        \"num_unique_values\": 4,\n        \"samples\": [\n          2,\n          4\n        ],\n        \"semantic_type\": \"\",\n        \"description\": \"\"\n      }\n    },\n    {\n      \"column\": \"HasCrCard\",\n      \"properties\": {\n        \"dtype\": \"number\",\n        \"std\": 0,\n        \"min\": 0,\n        \"max\": 1,\n        \"num_unique_values\": 2,\n        \"samples\": [\n          0,\n          1\n        ],\n        \"semantic_type\": \"\",\n        \"description\": \"\"\n      }\n    },\n    {\n      \"column\": \"IsActiveMember\",\n      \"properties\": {\n        \"dtype\": \"number\",\n        \"std\": 0,\n        \"min\": 0,\n        \"max\": 1,\n        \"num_unique_values\": 2,\n        \"samples\": [\n          0,\n          1\n        ],\n        \"semantic_type\": \"\",\n        \"description\": \"\"\n      }\n    },\n    {\n      \"column\": \"EstimatedSalary\",\n      \"properties\": {\n        \"dtype\": \"number\",\n        \"std\": 50048.66666271447,\n        \"min\": 11.58,\n        \"max\": 199992.48,\n        \"num_unique_values\": 20841,\n        \"samples\": [\n          168066.94,\n          180329.74\n        ],\n        \"semantic_type\": \"\",\n        \"description\": \"\"\n      }\n    },\n    {\n      \"column\": \"churn\",\n      \"properties\": {\n        \"dtype\": \"number\",\n        \"std\": 0,\n        \"min\": 0,\n        \"max\": 1,\n        \"num_unique_values\": 2,\n        \"samples\": [\n          1,\n          0\n        ],\n        \"semantic_type\": \"\",\n        \"description\": \"\"\n      }\n    }\n  ]\n}",
              "type": "dataframe",
              "variable_name": "df"
            },
            "text/html": [
              "\n",
              "  <div id=\"df-38d51619-4172-4d4c-97d8-de4aeca68cbc\" class=\"colab-df-container\">\n",
              "    <div>\n",
              "<style scoped>\n",
              "    .dataframe tbody tr th:only-of-type {\n",
              "        vertical-align: middle;\n",
              "    }\n",
              "\n",
              "    .dataframe tbody tr th {\n",
              "        vertical-align: top;\n",
              "    }\n",
              "\n",
              "    .dataframe thead th {\n",
              "        text-align: right;\n",
              "    }\n",
              "</style>\n",
              "<table border=\"1\" class=\"dataframe\">\n",
              "  <thead>\n",
              "    <tr style=\"text-align: right;\">\n",
              "      <th></th>\n",
              "      <th>Unnamed: 0</th>\n",
              "      <th>id</th>\n",
              "      <th>CustomerId</th>\n",
              "      <th>Surname</th>\n",
              "      <th>CreditScore</th>\n",
              "      <th>Geography</th>\n",
              "      <th>Gender</th>\n",
              "      <th>Age</th>\n",
              "      <th>Tenure</th>\n",
              "      <th>Balance</th>\n",
              "      <th>NumOfProducts</th>\n",
              "      <th>HasCrCard</th>\n",
              "      <th>IsActiveMember</th>\n",
              "      <th>EstimatedSalary</th>\n",
              "      <th>churn</th>\n",
              "    </tr>\n",
              "  </thead>\n",
              "  <tbody>\n",
              "    <tr>\n",
              "      <th>0</th>\n",
              "      <td>0</td>\n",
              "      <td>157138</td>\n",
              "      <td>15638646</td>\n",
              "      <td>Chinweike</td>\n",
              "      <td>628.0</td>\n",
              "      <td>Spain</td>\n",
              "      <td>Female</td>\n",
              "      <td>50.0</td>\n",
              "      <td>4</td>\n",
              "      <td>160133.08</td>\n",
              "      <td>1</td>\n",
              "      <td>1</td>\n",
              "      <td>1</td>\n",
              "      <td>653.53</td>\n",
              "      <td>0</td>\n",
              "    </tr>\n",
              "    <tr>\n",
              "      <th>1</th>\n",
              "      <td>1</td>\n",
              "      <td>116144</td>\n",
              "      <td>15695825</td>\n",
              "      <td>Onwumelu</td>\n",
              "      <td>710.0</td>\n",
              "      <td>Spain</td>\n",
              "      <td>Male</td>\n",
              "      <td>34.0</td>\n",
              "      <td>8</td>\n",
              "      <td>0.00</td>\n",
              "      <td>2</td>\n",
              "      <td>1</td>\n",
              "      <td>1</td>\n",
              "      <td>72993.73</td>\n",
              "      <td>0</td>\n",
              "    </tr>\n",
              "    <tr>\n",
              "      <th>2</th>\n",
              "      <td>2</td>\n",
              "      <td>145603</td>\n",
              "      <td>15592765</td>\n",
              "      <td>Marks</td>\n",
              "      <td>663.0</td>\n",
              "      <td>France</td>\n",
              "      <td>Female</td>\n",
              "      <td>23.0</td>\n",
              "      <td>8</td>\n",
              "      <td>125470.81</td>\n",
              "      <td>1</td>\n",
              "      <td>1</td>\n",
              "      <td>1</td>\n",
              "      <td>174536.17</td>\n",
              "      <td>0</td>\n",
              "    </tr>\n",
              "    <tr>\n",
              "      <th>3</th>\n",
              "      <td>3</td>\n",
              "      <td>79929</td>\n",
              "      <td>15807525</td>\n",
              "      <td>Onyemachukwu</td>\n",
              "      <td>644.0</td>\n",
              "      <td>Spain</td>\n",
              "      <td>Male</td>\n",
              "      <td>45.0</td>\n",
              "      <td>8</td>\n",
              "      <td>0.00</td>\n",
              "      <td>2</td>\n",
              "      <td>0</td>\n",
              "      <td>1</td>\n",
              "      <td>28690.90</td>\n",
              "      <td>0</td>\n",
              "    </tr>\n",
              "    <tr>\n",
              "      <th>4</th>\n",
              "      <td>4</td>\n",
              "      <td>52554</td>\n",
              "      <td>15611551</td>\n",
              "      <td>Hill</td>\n",
              "      <td>627.0</td>\n",
              "      <td>Spain</td>\n",
              "      <td>Male</td>\n",
              "      <td>23.0</td>\n",
              "      <td>5</td>\n",
              "      <td>0.00</td>\n",
              "      <td>2</td>\n",
              "      <td>1</td>\n",
              "      <td>0</td>\n",
              "      <td>134483.07</td>\n",
              "      <td>0</td>\n",
              "    </tr>\n",
              "  </tbody>\n",
              "</table>\n",
              "</div>\n",
              "    <div class=\"colab-df-buttons\">\n",
              "\n",
              "  <div class=\"colab-df-container\">\n",
              "    <button class=\"colab-df-convert\" onclick=\"convertToInteractive('df-38d51619-4172-4d4c-97d8-de4aeca68cbc')\"\n",
              "            title=\"Convert this dataframe to an interactive table.\"\n",
              "            style=\"display:none;\">\n",
              "\n",
              "  <svg xmlns=\"http://www.w3.org/2000/svg\" height=\"24px\" viewBox=\"0 -960 960 960\">\n",
              "    <path d=\"M120-120v-720h720v720H120Zm60-500h600v-160H180v160Zm220 220h160v-160H400v160Zm0 220h160v-160H400v160ZM180-400h160v-160H180v160Zm440 0h160v-160H620v160ZM180-180h160v-160H180v160Zm440 0h160v-160H620v160Z\"/>\n",
              "  </svg>\n",
              "    </button>\n",
              "\n",
              "  <style>\n",
              "    .colab-df-container {\n",
              "      display:flex;\n",
              "      gap: 12px;\n",
              "    }\n",
              "\n",
              "    .colab-df-convert {\n",
              "      background-color: #E8F0FE;\n",
              "      border: none;\n",
              "      border-radius: 50%;\n",
              "      cursor: pointer;\n",
              "      display: none;\n",
              "      fill: #1967D2;\n",
              "      height: 32px;\n",
              "      padding: 0 0 0 0;\n",
              "      width: 32px;\n",
              "    }\n",
              "\n",
              "    .colab-df-convert:hover {\n",
              "      background-color: #E2EBFA;\n",
              "      box-shadow: 0px 1px 2px rgba(60, 64, 67, 0.3), 0px 1px 3px 1px rgba(60, 64, 67, 0.15);\n",
              "      fill: #174EA6;\n",
              "    }\n",
              "\n",
              "    .colab-df-buttons div {\n",
              "      margin-bottom: 4px;\n",
              "    }\n",
              "\n",
              "    [theme=dark] .colab-df-convert {\n",
              "      background-color: #3B4455;\n",
              "      fill: #D2E3FC;\n",
              "    }\n",
              "\n",
              "    [theme=dark] .colab-df-convert:hover {\n",
              "      background-color: #434B5C;\n",
              "      box-shadow: 0px 1px 3px 1px rgba(0, 0, 0, 0.15);\n",
              "      filter: drop-shadow(0px 1px 2px rgba(0, 0, 0, 0.3));\n",
              "      fill: #FFFFFF;\n",
              "    }\n",
              "  </style>\n",
              "\n",
              "    <script>\n",
              "      const buttonEl =\n",
              "        document.querySelector('#df-38d51619-4172-4d4c-97d8-de4aeca68cbc button.colab-df-convert');\n",
              "      buttonEl.style.display =\n",
              "        google.colab.kernel.accessAllowed ? 'block' : 'none';\n",
              "\n",
              "      async function convertToInteractive(key) {\n",
              "        const element = document.querySelector('#df-38d51619-4172-4d4c-97d8-de4aeca68cbc');\n",
              "        const dataTable =\n",
              "          await google.colab.kernel.invokeFunction('convertToInteractive',\n",
              "                                                    [key], {});\n",
              "        if (!dataTable) return;\n",
              "\n",
              "        const docLinkHtml = 'Like what you see? Visit the ' +\n",
              "          '<a target=\"_blank\" href=https://colab.research.google.com/notebooks/data_table.ipynb>data table notebook</a>'\n",
              "          + ' to learn more about interactive tables.';\n",
              "        element.innerHTML = '';\n",
              "        dataTable['output_type'] = 'display_data';\n",
              "        await google.colab.output.renderOutput(dataTable, element);\n",
              "        const docLink = document.createElement('div');\n",
              "        docLink.innerHTML = docLinkHtml;\n",
              "        element.appendChild(docLink);\n",
              "      }\n",
              "    </script>\n",
              "  </div>\n",
              "\n",
              "\n",
              "<div id=\"df-bb191811-bf11-4e04-8802-c2f34311cf0d\">\n",
              "  <button class=\"colab-df-quickchart\" onclick=\"quickchart('df-bb191811-bf11-4e04-8802-c2f34311cf0d')\"\n",
              "            title=\"Suggest charts\"\n",
              "            style=\"display:none;\">\n",
              "\n",
              "<svg xmlns=\"http://www.w3.org/2000/svg\" height=\"24px\"viewBox=\"0 0 24 24\"\n",
              "     width=\"24px\">\n",
              "    <g>\n",
              "        <path d=\"M19 3H5c-1.1 0-2 .9-2 2v14c0 1.1.9 2 2 2h14c1.1 0 2-.9 2-2V5c0-1.1-.9-2-2-2zM9 17H7v-7h2v7zm4 0h-2V7h2v10zm4 0h-2v-4h2v4z\"/>\n",
              "    </g>\n",
              "</svg>\n",
              "  </button>\n",
              "\n",
              "<style>\n",
              "  .colab-df-quickchart {\n",
              "      --bg-color: #E8F0FE;\n",
              "      --fill-color: #1967D2;\n",
              "      --hover-bg-color: #E2EBFA;\n",
              "      --hover-fill-color: #174EA6;\n",
              "      --disabled-fill-color: #AAA;\n",
              "      --disabled-bg-color: #DDD;\n",
              "  }\n",
              "\n",
              "  [theme=dark] .colab-df-quickchart {\n",
              "      --bg-color: #3B4455;\n",
              "      --fill-color: #D2E3FC;\n",
              "      --hover-bg-color: #434B5C;\n",
              "      --hover-fill-color: #FFFFFF;\n",
              "      --disabled-bg-color: #3B4455;\n",
              "      --disabled-fill-color: #666;\n",
              "  }\n",
              "\n",
              "  .colab-df-quickchart {\n",
              "    background-color: var(--bg-color);\n",
              "    border: none;\n",
              "    border-radius: 50%;\n",
              "    cursor: pointer;\n",
              "    display: none;\n",
              "    fill: var(--fill-color);\n",
              "    height: 32px;\n",
              "    padding: 0;\n",
              "    width: 32px;\n",
              "  }\n",
              "\n",
              "  .colab-df-quickchart:hover {\n",
              "    background-color: var(--hover-bg-color);\n",
              "    box-shadow: 0 1px 2px rgba(60, 64, 67, 0.3), 0 1px 3px 1px rgba(60, 64, 67, 0.15);\n",
              "    fill: var(--button-hover-fill-color);\n",
              "  }\n",
              "\n",
              "  .colab-df-quickchart-complete:disabled,\n",
              "  .colab-df-quickchart-complete:disabled:hover {\n",
              "    background-color: var(--disabled-bg-color);\n",
              "    fill: var(--disabled-fill-color);\n",
              "    box-shadow: none;\n",
              "  }\n",
              "\n",
              "  .colab-df-spinner {\n",
              "    border: 2px solid var(--fill-color);\n",
              "    border-color: transparent;\n",
              "    border-bottom-color: var(--fill-color);\n",
              "    animation:\n",
              "      spin 1s steps(1) infinite;\n",
              "  }\n",
              "\n",
              "  @keyframes spin {\n",
              "    0% {\n",
              "      border-color: transparent;\n",
              "      border-bottom-color: var(--fill-color);\n",
              "      border-left-color: var(--fill-color);\n",
              "    }\n",
              "    20% {\n",
              "      border-color: transparent;\n",
              "      border-left-color: var(--fill-color);\n",
              "      border-top-color: var(--fill-color);\n",
              "    }\n",
              "    30% {\n",
              "      border-color: transparent;\n",
              "      border-left-color: var(--fill-color);\n",
              "      border-top-color: var(--fill-color);\n",
              "      border-right-color: var(--fill-color);\n",
              "    }\n",
              "    40% {\n",
              "      border-color: transparent;\n",
              "      border-right-color: var(--fill-color);\n",
              "      border-top-color: var(--fill-color);\n",
              "    }\n",
              "    60% {\n",
              "      border-color: transparent;\n",
              "      border-right-color: var(--fill-color);\n",
              "    }\n",
              "    80% {\n",
              "      border-color: transparent;\n",
              "      border-right-color: var(--fill-color);\n",
              "      border-bottom-color: var(--fill-color);\n",
              "    }\n",
              "    90% {\n",
              "      border-color: transparent;\n",
              "      border-bottom-color: var(--fill-color);\n",
              "    }\n",
              "  }\n",
              "</style>\n",
              "\n",
              "  <script>\n",
              "    async function quickchart(key) {\n",
              "      const quickchartButtonEl =\n",
              "        document.querySelector('#' + key + ' button');\n",
              "      quickchartButtonEl.disabled = true;  // To prevent multiple clicks.\n",
              "      quickchartButtonEl.classList.add('colab-df-spinner');\n",
              "      try {\n",
              "        const charts = await google.colab.kernel.invokeFunction(\n",
              "            'suggestCharts', [key], {});\n",
              "      } catch (error) {\n",
              "        console.error('Error during call to suggestCharts:', error);\n",
              "      }\n",
              "      quickchartButtonEl.classList.remove('colab-df-spinner');\n",
              "      quickchartButtonEl.classList.add('colab-df-quickchart-complete');\n",
              "    }\n",
              "    (() => {\n",
              "      let quickchartButtonEl =\n",
              "        document.querySelector('#df-bb191811-bf11-4e04-8802-c2f34311cf0d button');\n",
              "      quickchartButtonEl.style.display =\n",
              "        google.colab.kernel.accessAllowed ? 'block' : 'none';\n",
              "    })();\n",
              "  </script>\n",
              "</div>\n",
              "    </div>\n",
              "  </div>\n"
            ],
            "text/plain": [
              "   Unnamed: 0      id  CustomerId       Surname  CreditScore Geography  \\\n",
              "0           0  157138    15638646     Chinweike        628.0     Spain   \n",
              "1           1  116144    15695825      Onwumelu        710.0     Spain   \n",
              "2           2  145603    15592765         Marks        663.0    France   \n",
              "3           3   79929    15807525  Onyemachukwu        644.0     Spain   \n",
              "4           4   52554    15611551          Hill        627.0     Spain   \n",
              "\n",
              "   Gender   Age  Tenure    Balance  NumOfProducts  HasCrCard  IsActiveMember  \\\n",
              "0  Female  50.0       4  160133.08              1          1               1   \n",
              "1    Male  34.0       8       0.00              2          1               1   \n",
              "2  Female  23.0       8  125470.81              1          1               1   \n",
              "3    Male  45.0       8       0.00              2          0               1   \n",
              "4    Male  23.0       5       0.00              2          1               0   \n",
              "\n",
              "   EstimatedSalary  churn  \n",
              "0           653.53      0  \n",
              "1         72993.73      0  \n",
              "2        174536.17      0  \n",
              "3         28690.90      0  \n",
              "4        134483.07      0  "
            ]
          },
          "execution_count": 3,
          "metadata": {},
          "output_type": "execute_result"
        }
      ],
      "source": [
        "df.head()"
      ]
    },
    {
      "cell_type": "code",
      "execution_count": 4,
      "id": "46d9845d",
      "metadata": {
        "colab": {
          "base_uri": "https://localhost:8080/",
          "height": 244
        },
        "id": "46d9845d",
        "outputId": "01cc7f4d-70aa-4d4a-f991-b1f380e4fb00"
      },
      "outputs": [
        {
          "data": {
            "application/vnd.google.colaboratory.intrinsic+json": {
              "summary": "{\n  \"name\": \"df\",\n  \"rows\": 5,\n  \"fields\": [\n    {\n      \"column\": \"Unnamed: 0\",\n      \"properties\": {\n        \"dtype\": \"number\",\n        \"std\": 1,\n        \"min\": 41253,\n        \"max\": 41257,\n        \"num_unique_values\": 5,\n        \"samples\": [\n          41254,\n          41257,\n          41255\n        ],\n        \"semantic_type\": \"\",\n        \"description\": \"\"\n      }\n    },\n    {\n      \"column\": \"id\",\n      \"properties\": {\n        \"dtype\": \"number\",\n        \"std\": 51999,\n        \"min\": 31177,\n        \"max\": 154294,\n        \"num_unique_values\": 5,\n        \"samples\": [\n          110969,\n          154294,\n          132494\n        ],\n        \"semantic_type\": \"\",\n        \"description\": \"\"\n      }\n    },\n    {\n      \"column\": \"CustomerId\",\n      \"properties\": {\n        \"dtype\": \"number\",\n        \"std\": 62243,\n        \"min\": 15641043,\n        \"max\": 15806926,\n        \"num_unique_values\": 5,\n        \"samples\": [\n          15674541,\n          15696231,\n          15700601\n        ],\n        \"semantic_type\": \"\",\n        \"description\": \"\"\n      }\n    },\n    {\n      \"column\": \"Surname\",\n      \"properties\": {\n        \"dtype\": \"string\",\n        \"num_unique_values\": 5,\n        \"samples\": [\n          \"Robinson\",\n          \"Chiwetelu\",\n          \"Kao\"\n        ],\n        \"semantic_type\": \"\",\n        \"description\": \"\"\n      }\n    },\n    {\n      \"column\": \"CreditScore\",\n      \"properties\": {\n        \"dtype\": \"number\",\n        \"std\": 42.12718837045738,\n        \"min\": 571.0,\n        \"max\": 668.0,\n        \"num_unique_values\": 5,\n        \"samples\": [\n          575.0,\n          668.0,\n          571.0\n        ],\n        \"semantic_type\": \"\",\n        \"description\": \"\"\n      }\n    },\n    {\n      \"column\": \"Geography\",\n      \"properties\": {\n        \"dtype\": \"category\",\n        \"num_unique_values\": 2,\n        \"samples\": [\n          \"France\",\n          \"Germany\"\n        ],\n        \"semantic_type\": \"\",\n        \"description\": \"\"\n      }\n    },\n    {\n      \"column\": \"Gender\",\n      \"properties\": {\n        \"dtype\": \"category\",\n        \"num_unique_values\": 1,\n        \"samples\": [\n          \"Male\"\n        ],\n        \"semantic_type\": \"\",\n        \"description\": \"\"\n      }\n    },\n    {\n      \"column\": \"Age\",\n      \"properties\": {\n        \"dtype\": \"number\",\n        \"std\": 8.555699854482974,\n        \"min\": 29.0,\n        \"max\": 52.0,\n        \"num_unique_values\": 4,\n        \"samples\": [\n          52.0\n        ],\n        \"semantic_type\": \"\",\n        \"description\": \"\"\n      }\n    },\n    {\n      \"column\": \"Tenure\",\n      \"properties\": {\n        \"dtype\": \"number\",\n        \"std\": 3,\n        \"min\": 1,\n        \"max\": 8,\n        \"num_unique_values\": 5,\n        \"samples\": [\n          8\n        ],\n        \"semantic_type\": \"\",\n        \"description\": \"\"\n      }\n    },\n    {\n      \"column\": \"Balance\",\n      \"properties\": {\n        \"dtype\": \"number\",\n        \"std\": 67290.0511969522,\n        \"min\": 0.0,\n        \"max\": 138166.3,\n        \"num_unique_values\": 4,\n        \"samples\": [\n          0.0\n        ],\n        \"semantic_type\": \"\",\n        \"description\": \"\"\n      }\n    },\n    {\n      \"column\": \"NumOfProducts\",\n      \"properties\": {\n        \"dtype\": \"number\",\n        \"std\": 0,\n        \"min\": 1,\n        \"max\": 2,\n        \"num_unique_values\": 2,\n        \"samples\": [\n          1\n        ],\n        \"semantic_type\": \"\",\n        \"description\": \"\"\n      }\n    },\n    {\n      \"column\": \"HasCrCard\",\n      \"properties\": {\n        \"dtype\": \"number\",\n        \"std\": 0,\n        \"min\": 0,\n        \"max\": 1,\n        \"num_unique_values\": 2,\n        \"samples\": [\n          1\n        ],\n        \"semantic_type\": \"\",\n        \"description\": \"\"\n      }\n    },\n    {\n      \"column\": \"IsActiveMember\",\n      \"properties\": {\n        \"dtype\": \"number\",\n        \"std\": 0,\n        \"min\": 0,\n        \"max\": 1,\n        \"num_unique_values\": 2,\n        \"samples\": [\n          0\n        ],\n        \"semantic_type\": \"\",\n        \"description\": \"\"\n      }\n    },\n    {\n      \"column\": \"EstimatedSalary\",\n      \"properties\": {\n        \"dtype\": \"number\",\n        \"std\": 55079.30642212446,\n        \"min\": 40320.3,\n        \"max\": 173511.72,\n        \"num_unique_values\": 5,\n        \"samples\": [\n          111342.66\n        ],\n        \"semantic_type\": \"\",\n        \"description\": \"\"\n      }\n    },\n    {\n      \"column\": \"churn\",\n      \"properties\": {\n        \"dtype\": \"number\",\n        \"std\": 0,\n        \"min\": 0,\n        \"max\": 0,\n        \"num_unique_values\": 1,\n        \"samples\": [\n          0\n        ],\n        \"semantic_type\": \"\",\n        \"description\": \"\"\n      }\n    }\n  ]\n}",
              "type": "dataframe"
            },
            "text/html": [
              "\n",
              "  <div id=\"df-e9f9f974-c4f9-437b-8059-ee9dae66a4f3\" class=\"colab-df-container\">\n",
              "    <div>\n",
              "<style scoped>\n",
              "    .dataframe tbody tr th:only-of-type {\n",
              "        vertical-align: middle;\n",
              "    }\n",
              "\n",
              "    .dataframe tbody tr th {\n",
              "        vertical-align: top;\n",
              "    }\n",
              "\n",
              "    .dataframe thead th {\n",
              "        text-align: right;\n",
              "    }\n",
              "</style>\n",
              "<table border=\"1\" class=\"dataframe\">\n",
              "  <thead>\n",
              "    <tr style=\"text-align: right;\">\n",
              "      <th></th>\n",
              "      <th>Unnamed: 0</th>\n",
              "      <th>id</th>\n",
              "      <th>CustomerId</th>\n",
              "      <th>Surname</th>\n",
              "      <th>CreditScore</th>\n",
              "      <th>Geography</th>\n",
              "      <th>Gender</th>\n",
              "      <th>Age</th>\n",
              "      <th>Tenure</th>\n",
              "      <th>Balance</th>\n",
              "      <th>NumOfProducts</th>\n",
              "      <th>HasCrCard</th>\n",
              "      <th>IsActiveMember</th>\n",
              "      <th>EstimatedSalary</th>\n",
              "      <th>churn</th>\n",
              "    </tr>\n",
              "  </thead>\n",
              "  <tbody>\n",
              "    <tr>\n",
              "      <th>41253</th>\n",
              "      <td>41253</td>\n",
              "      <td>55217</td>\n",
              "      <td>15641043</td>\n",
              "      <td>Onyemere</td>\n",
              "      <td>641.0</td>\n",
              "      <td>Germany</td>\n",
              "      <td>Male</td>\n",
              "      <td>38.0</td>\n",
              "      <td>2</td>\n",
              "      <td>138166.30</td>\n",
              "      <td>2</td>\n",
              "      <td>0</td>\n",
              "      <td>1</td>\n",
              "      <td>69227.66</td>\n",
              "      <td>0</td>\n",
              "    </tr>\n",
              "    <tr>\n",
              "      <th>41254</th>\n",
              "      <td>41254</td>\n",
              "      <td>110969</td>\n",
              "      <td>15674541</td>\n",
              "      <td>Robinson</td>\n",
              "      <td>575.0</td>\n",
              "      <td>France</td>\n",
              "      <td>Male</td>\n",
              "      <td>52.0</td>\n",
              "      <td>8</td>\n",
              "      <td>0.00</td>\n",
              "      <td>2</td>\n",
              "      <td>0</td>\n",
              "      <td>1</td>\n",
              "      <td>111342.66</td>\n",
              "      <td>0</td>\n",
              "    </tr>\n",
              "    <tr>\n",
              "      <th>41255</th>\n",
              "      <td>41255</td>\n",
              "      <td>132494</td>\n",
              "      <td>15700601</td>\n",
              "      <td>Kao</td>\n",
              "      <td>571.0</td>\n",
              "      <td>France</td>\n",
              "      <td>Male</td>\n",
              "      <td>34.0</td>\n",
              "      <td>1</td>\n",
              "      <td>119452.03</td>\n",
              "      <td>2</td>\n",
              "      <td>1</td>\n",
              "      <td>1</td>\n",
              "      <td>173511.72</td>\n",
              "      <td>0</td>\n",
              "    </tr>\n",
              "    <tr>\n",
              "      <th>41256</th>\n",
              "      <td>41256</td>\n",
              "      <td>31177</td>\n",
              "      <td>15806926</td>\n",
              "      <td>Nkemjika</td>\n",
              "      <td>624.0</td>\n",
              "      <td>France</td>\n",
              "      <td>Male</td>\n",
              "      <td>38.0</td>\n",
              "      <td>4</td>\n",
              "      <td>0.00</td>\n",
              "      <td>1</td>\n",
              "      <td>0</td>\n",
              "      <td>0</td>\n",
              "      <td>40320.30</td>\n",
              "      <td>0</td>\n",
              "    </tr>\n",
              "    <tr>\n",
              "      <th>41257</th>\n",
              "      <td>41257</td>\n",
              "      <td>154294</td>\n",
              "      <td>15696231</td>\n",
              "      <td>Chiwetelu</td>\n",
              "      <td>668.0</td>\n",
              "      <td>France</td>\n",
              "      <td>Male</td>\n",
              "      <td>29.0</td>\n",
              "      <td>7</td>\n",
              "      <td>105405.97</td>\n",
              "      <td>1</td>\n",
              "      <td>1</td>\n",
              "      <td>1</td>\n",
              "      <td>149853.89</td>\n",
              "      <td>0</td>\n",
              "    </tr>\n",
              "  </tbody>\n",
              "</table>\n",
              "</div>\n",
              "    <div class=\"colab-df-buttons\">\n",
              "\n",
              "  <div class=\"colab-df-container\">\n",
              "    <button class=\"colab-df-convert\" onclick=\"convertToInteractive('df-e9f9f974-c4f9-437b-8059-ee9dae66a4f3')\"\n",
              "            title=\"Convert this dataframe to an interactive table.\"\n",
              "            style=\"display:none;\">\n",
              "\n",
              "  <svg xmlns=\"http://www.w3.org/2000/svg\" height=\"24px\" viewBox=\"0 -960 960 960\">\n",
              "    <path d=\"M120-120v-720h720v720H120Zm60-500h600v-160H180v160Zm220 220h160v-160H400v160Zm0 220h160v-160H400v160ZM180-400h160v-160H180v160Zm440 0h160v-160H620v160ZM180-180h160v-160H180v160Zm440 0h160v-160H620v160Z\"/>\n",
              "  </svg>\n",
              "    </button>\n",
              "\n",
              "  <style>\n",
              "    .colab-df-container {\n",
              "      display:flex;\n",
              "      gap: 12px;\n",
              "    }\n",
              "\n",
              "    .colab-df-convert {\n",
              "      background-color: #E8F0FE;\n",
              "      border: none;\n",
              "      border-radius: 50%;\n",
              "      cursor: pointer;\n",
              "      display: none;\n",
              "      fill: #1967D2;\n",
              "      height: 32px;\n",
              "      padding: 0 0 0 0;\n",
              "      width: 32px;\n",
              "    }\n",
              "\n",
              "    .colab-df-convert:hover {\n",
              "      background-color: #E2EBFA;\n",
              "      box-shadow: 0px 1px 2px rgba(60, 64, 67, 0.3), 0px 1px 3px 1px rgba(60, 64, 67, 0.15);\n",
              "      fill: #174EA6;\n",
              "    }\n",
              "\n",
              "    .colab-df-buttons div {\n",
              "      margin-bottom: 4px;\n",
              "    }\n",
              "\n",
              "    [theme=dark] .colab-df-convert {\n",
              "      background-color: #3B4455;\n",
              "      fill: #D2E3FC;\n",
              "    }\n",
              "\n",
              "    [theme=dark] .colab-df-convert:hover {\n",
              "      background-color: #434B5C;\n",
              "      box-shadow: 0px 1px 3px 1px rgba(0, 0, 0, 0.15);\n",
              "      filter: drop-shadow(0px 1px 2px rgba(0, 0, 0, 0.3));\n",
              "      fill: #FFFFFF;\n",
              "    }\n",
              "  </style>\n",
              "\n",
              "    <script>\n",
              "      const buttonEl =\n",
              "        document.querySelector('#df-e9f9f974-c4f9-437b-8059-ee9dae66a4f3 button.colab-df-convert');\n",
              "      buttonEl.style.display =\n",
              "        google.colab.kernel.accessAllowed ? 'block' : 'none';\n",
              "\n",
              "      async function convertToInteractive(key) {\n",
              "        const element = document.querySelector('#df-e9f9f974-c4f9-437b-8059-ee9dae66a4f3');\n",
              "        const dataTable =\n",
              "          await google.colab.kernel.invokeFunction('convertToInteractive',\n",
              "                                                    [key], {});\n",
              "        if (!dataTable) return;\n",
              "\n",
              "        const docLinkHtml = 'Like what you see? Visit the ' +\n",
              "          '<a target=\"_blank\" href=https://colab.research.google.com/notebooks/data_table.ipynb>data table notebook</a>'\n",
              "          + ' to learn more about interactive tables.';\n",
              "        element.innerHTML = '';\n",
              "        dataTable['output_type'] = 'display_data';\n",
              "        await google.colab.output.renderOutput(dataTable, element);\n",
              "        const docLink = document.createElement('div');\n",
              "        docLink.innerHTML = docLinkHtml;\n",
              "        element.appendChild(docLink);\n",
              "      }\n",
              "    </script>\n",
              "  </div>\n",
              "\n",
              "\n",
              "<div id=\"df-1bf2cd35-0f85-4bc4-80e7-52940be6e0aa\">\n",
              "  <button class=\"colab-df-quickchart\" onclick=\"quickchart('df-1bf2cd35-0f85-4bc4-80e7-52940be6e0aa')\"\n",
              "            title=\"Suggest charts\"\n",
              "            style=\"display:none;\">\n",
              "\n",
              "<svg xmlns=\"http://www.w3.org/2000/svg\" height=\"24px\"viewBox=\"0 0 24 24\"\n",
              "     width=\"24px\">\n",
              "    <g>\n",
              "        <path d=\"M19 3H5c-1.1 0-2 .9-2 2v14c0 1.1.9 2 2 2h14c1.1 0 2-.9 2-2V5c0-1.1-.9-2-2-2zM9 17H7v-7h2v7zm4 0h-2V7h2v10zm4 0h-2v-4h2v4z\"/>\n",
              "    </g>\n",
              "</svg>\n",
              "  </button>\n",
              "\n",
              "<style>\n",
              "  .colab-df-quickchart {\n",
              "      --bg-color: #E8F0FE;\n",
              "      --fill-color: #1967D2;\n",
              "      --hover-bg-color: #E2EBFA;\n",
              "      --hover-fill-color: #174EA6;\n",
              "      --disabled-fill-color: #AAA;\n",
              "      --disabled-bg-color: #DDD;\n",
              "  }\n",
              "\n",
              "  [theme=dark] .colab-df-quickchart {\n",
              "      --bg-color: #3B4455;\n",
              "      --fill-color: #D2E3FC;\n",
              "      --hover-bg-color: #434B5C;\n",
              "      --hover-fill-color: #FFFFFF;\n",
              "      --disabled-bg-color: #3B4455;\n",
              "      --disabled-fill-color: #666;\n",
              "  }\n",
              "\n",
              "  .colab-df-quickchart {\n",
              "    background-color: var(--bg-color);\n",
              "    border: none;\n",
              "    border-radius: 50%;\n",
              "    cursor: pointer;\n",
              "    display: none;\n",
              "    fill: var(--fill-color);\n",
              "    height: 32px;\n",
              "    padding: 0;\n",
              "    width: 32px;\n",
              "  }\n",
              "\n",
              "  .colab-df-quickchart:hover {\n",
              "    background-color: var(--hover-bg-color);\n",
              "    box-shadow: 0 1px 2px rgba(60, 64, 67, 0.3), 0 1px 3px 1px rgba(60, 64, 67, 0.15);\n",
              "    fill: var(--button-hover-fill-color);\n",
              "  }\n",
              "\n",
              "  .colab-df-quickchart-complete:disabled,\n",
              "  .colab-df-quickchart-complete:disabled:hover {\n",
              "    background-color: var(--disabled-bg-color);\n",
              "    fill: var(--disabled-fill-color);\n",
              "    box-shadow: none;\n",
              "  }\n",
              "\n",
              "  .colab-df-spinner {\n",
              "    border: 2px solid var(--fill-color);\n",
              "    border-color: transparent;\n",
              "    border-bottom-color: var(--fill-color);\n",
              "    animation:\n",
              "      spin 1s steps(1) infinite;\n",
              "  }\n",
              "\n",
              "  @keyframes spin {\n",
              "    0% {\n",
              "      border-color: transparent;\n",
              "      border-bottom-color: var(--fill-color);\n",
              "      border-left-color: var(--fill-color);\n",
              "    }\n",
              "    20% {\n",
              "      border-color: transparent;\n",
              "      border-left-color: var(--fill-color);\n",
              "      border-top-color: var(--fill-color);\n",
              "    }\n",
              "    30% {\n",
              "      border-color: transparent;\n",
              "      border-left-color: var(--fill-color);\n",
              "      border-top-color: var(--fill-color);\n",
              "      border-right-color: var(--fill-color);\n",
              "    }\n",
              "    40% {\n",
              "      border-color: transparent;\n",
              "      border-right-color: var(--fill-color);\n",
              "      border-top-color: var(--fill-color);\n",
              "    }\n",
              "    60% {\n",
              "      border-color: transparent;\n",
              "      border-right-color: var(--fill-color);\n",
              "    }\n",
              "    80% {\n",
              "      border-color: transparent;\n",
              "      border-right-color: var(--fill-color);\n",
              "      border-bottom-color: var(--fill-color);\n",
              "    }\n",
              "    90% {\n",
              "      border-color: transparent;\n",
              "      border-bottom-color: var(--fill-color);\n",
              "    }\n",
              "  }\n",
              "</style>\n",
              "\n",
              "  <script>\n",
              "    async function quickchart(key) {\n",
              "      const quickchartButtonEl =\n",
              "        document.querySelector('#' + key + ' button');\n",
              "      quickchartButtonEl.disabled = true;  // To prevent multiple clicks.\n",
              "      quickchartButtonEl.classList.add('colab-df-spinner');\n",
              "      try {\n",
              "        const charts = await google.colab.kernel.invokeFunction(\n",
              "            'suggestCharts', [key], {});\n",
              "      } catch (error) {\n",
              "        console.error('Error during call to suggestCharts:', error);\n",
              "      }\n",
              "      quickchartButtonEl.classList.remove('colab-df-spinner');\n",
              "      quickchartButtonEl.classList.add('colab-df-quickchart-complete');\n",
              "    }\n",
              "    (() => {\n",
              "      let quickchartButtonEl =\n",
              "        document.querySelector('#df-1bf2cd35-0f85-4bc4-80e7-52940be6e0aa button');\n",
              "      quickchartButtonEl.style.display =\n",
              "        google.colab.kernel.accessAllowed ? 'block' : 'none';\n",
              "    })();\n",
              "  </script>\n",
              "</div>\n",
              "    </div>\n",
              "  </div>\n"
            ],
            "text/plain": [
              "       Unnamed: 0      id  CustomerId    Surname  CreditScore Geography  \\\n",
              "41253       41253   55217    15641043   Onyemere        641.0   Germany   \n",
              "41254       41254  110969    15674541   Robinson        575.0    France   \n",
              "41255       41255  132494    15700601        Kao        571.0    France   \n",
              "41256       41256   31177    15806926   Nkemjika        624.0    France   \n",
              "41257       41257  154294    15696231  Chiwetelu        668.0    France   \n",
              "\n",
              "      Gender   Age  Tenure    Balance  NumOfProducts  HasCrCard  \\\n",
              "41253   Male  38.0       2  138166.30              2          0   \n",
              "41254   Male  52.0       8       0.00              2          0   \n",
              "41255   Male  34.0       1  119452.03              2          1   \n",
              "41256   Male  38.0       4       0.00              1          0   \n",
              "41257   Male  29.0       7  105405.97              1          1   \n",
              "\n",
              "       IsActiveMember  EstimatedSalary  churn  \n",
              "41253               1         69227.66      0  \n",
              "41254               1        111342.66      0  \n",
              "41255               1        173511.72      0  \n",
              "41256               0         40320.30      0  \n",
              "41257               1        149853.89      0  "
            ]
          },
          "execution_count": 4,
          "metadata": {},
          "output_type": "execute_result"
        }
      ],
      "source": [
        "df.tail()"
      ]
    },
    {
      "cell_type": "code",
      "execution_count": 5,
      "id": "7cef85ac",
      "metadata": {
        "colab": {
          "base_uri": "https://localhost:8080/"
        },
        "id": "7cef85ac",
        "outputId": "b6b84da7-a5cf-4c99-ddf2-08c06bb48f65"
      },
      "outputs": [
        {
          "data": {
            "text/plain": [
              "(41258, 15)"
            ]
          },
          "execution_count": 5,
          "metadata": {},
          "output_type": "execute_result"
        }
      ],
      "source": [
        "df.shape"
      ]
    },
    {
      "cell_type": "code",
      "execution_count": 6,
      "id": "4116c328",
      "metadata": {
        "colab": {
          "base_uri": "https://localhost:8080/"
        },
        "id": "4116c328",
        "outputId": "7ec4b3bb-41da-4a10-8d79-6e0e42f3fd49"
      },
      "outputs": [
        {
          "data": {
            "text/plain": [
              "Index(['Unnamed: 0', 'id', 'CustomerId', 'Surname', 'CreditScore', 'Geography',\n",
              "       'Gender', 'Age', 'Tenure', 'Balance', 'NumOfProducts', 'HasCrCard',\n",
              "       'IsActiveMember', 'EstimatedSalary', 'churn'],\n",
              "      dtype='object')"
            ]
          },
          "execution_count": 6,
          "metadata": {},
          "output_type": "execute_result"
        }
      ],
      "source": [
        "df.columns"
      ]
    },
    {
      "cell_type": "code",
      "execution_count": 7,
      "id": "f2dc4a89",
      "metadata": {
        "colab": {
          "base_uri": "https://localhost:8080/"
        },
        "id": "f2dc4a89",
        "outputId": "c4c596b9-6522-446f-eca9-d58ca1b9c445"
      },
      "outputs": [
        {
          "name": "stdout",
          "output_type": "stream",
          "text": [
            "<class 'pandas.core.frame.DataFrame'>\n",
            "RangeIndex: 41258 entries, 0 to 41257\n",
            "Data columns (total 15 columns):\n",
            " #   Column           Non-Null Count  Dtype  \n",
            "---  ------           --------------  -----  \n",
            " 0   Unnamed: 0       41258 non-null  int64  \n",
            " 1   id               41258 non-null  int64  \n",
            " 2   CustomerId       41258 non-null  int64  \n",
            " 3   Surname          41258 non-null  object \n",
            " 4   CreditScore      41246 non-null  float64\n",
            " 5   Geography        41258 non-null  object \n",
            " 6   Gender           41258 non-null  object \n",
            " 7   Age              41258 non-null  float64\n",
            " 8   Tenure           41258 non-null  int64  \n",
            " 9   Balance          41258 non-null  float64\n",
            " 10  NumOfProducts    41258 non-null  int64  \n",
            " 11  HasCrCard        41258 non-null  int64  \n",
            " 12  IsActiveMember   41258 non-null  int64  \n",
            " 13  EstimatedSalary  41258 non-null  float64\n",
            " 14  churn            41258 non-null  int64  \n",
            "dtypes: float64(4), int64(8), object(3)\n",
            "memory usage: 4.7+ MB\n"
          ]
        }
      ],
      "source": [
        "df.info()"
      ]
    },
    {
      "cell_type": "markdown",
      "id": "4155f6cb",
      "metadata": {
        "id": "4155f6cb"
      },
      "source": [
        "This DataFrame provides details about customers, including:\n",
        "\n",
        "- `Unnamed: 0`: Row index.\n",
        "- `id`: Customer ID.\n",
        "- `CustomerId`: Additional identifier for the customer.\n",
        "- `Surname`: Customer's last name.\n",
        "- `CreditScore`: Customer's credit score.\n",
        "- `Geography`: Customer's location or country.\n",
        "- `Gender`: Customer's gender.\n",
        "- `Age`: Customer's age.\n",
        "- `Tenure`: Years as a client with the company.\n",
        "- `Balance`: Account balance.\n",
        "- `NumOfProducts`: Number of products owned with the company.\n",
        "- `HasCrCard`: Indicates if the customer has a credit card (1 for yes, 0 for no).\n",
        "- `IsActiveMember`: Indicates if the customer is an active member (1 for yes, 0 for no).\n",
        "- `EstimatedSalary`: Estimated customer income.\n",
        "churn: Indicates if the customer has stopped using the service (1 for yes, 0 for no).<br><br>\n",
        "The target column is `churn`."
      ]
    },
    {
      "cell_type": "code",
      "execution_count": 8,
      "id": "4aa8f9f4",
      "metadata": {
        "colab": {
          "base_uri": "https://localhost:8080/"
        },
        "id": "4aa8f9f4",
        "outputId": "894e4a67-d683-4356-9dcd-68cfbfc55c2f"
      },
      "outputs": [
        {
          "data": {
            "text/plain": [
              "Unnamed: 0          0\n",
              "id                  0\n",
              "CustomerId          0\n",
              "Surname             0\n",
              "CreditScore        12\n",
              "Geography           0\n",
              "Gender              0\n",
              "Age                 0\n",
              "Tenure              0\n",
              "Balance             0\n",
              "NumOfProducts       0\n",
              "HasCrCard           0\n",
              "IsActiveMember      0\n",
              "EstimatedSalary     0\n",
              "churn               0\n",
              "dtype: int64"
            ]
          },
          "execution_count": 8,
          "metadata": {},
          "output_type": "execute_result"
        }
      ],
      "source": [
        "df.isnull().sum()"
      ]
    },
    {
      "cell_type": "markdown",
      "id": "8OhkVeA27Byr",
      "metadata": {
        "id": "8OhkVeA27Byr"
      },
      "source": [
        "We can observe that there are 1 columns with missing values, namely: `CreditScore`."
      ]
    },
    {
      "cell_type": "code",
      "execution_count": 9,
      "id": "CpPj7Sg_7AHC",
      "metadata": {
        "colab": {
          "base_uri": "https://localhost:8080/"
        },
        "id": "CpPj7Sg_7AHC",
        "outputId": "9c4404e2-6009-42ea-b1b5-073f6cc6381b"
      },
      "outputs": [
        {
          "name": "stdout",
          "output_type": "stream",
          "text": [
            "Unnamed: 0\n",
            "41257    1\n",
            "0        1\n",
            "1        1\n",
            "2        1\n",
            "3        1\n",
            "        ..\n",
            "13       1\n",
            "14       1\n",
            "15       1\n",
            "16       1\n",
            "17       1\n",
            "Name: count, Length: 41258, dtype: int64\n",
            "id\n",
            "154294    1\n",
            "157138    1\n",
            "116144    1\n",
            "145603    1\n",
            "79929     1\n",
            "         ..\n",
            "144365    1\n",
            "114901    1\n",
            "93797     1\n",
            "110723    1\n",
            "64816     1\n",
            "Name: count, Length: 41258, dtype: int64\n",
            "CustomerId\n",
            "15682355    32\n",
            "15756901    29\n",
            "15641490    26\n",
            "15804787    26\n",
            "15690169    25\n",
            "            ..\n",
            "15596817     1\n",
            "15680755     1\n",
            "15592928     1\n",
            "15757771     1\n",
            "15770104     1\n",
            "Name: count, Length: 13212, dtype: int64\n",
            "Surname\n",
            "Hsia         636\n",
            "T'ien        571\n",
            "Maclean      430\n",
            "Kao          405\n",
            "Hs?          397\n",
            "            ... \n",
            "Thornton       1\n",
            "Lipton         1\n",
            "Etheridge      1\n",
            "Crotty         1\n",
            "Renwick        1\n",
            "Name: count, Length: 2272, dtype: int64\n",
            "CreditScore\n",
            "850.0    594\n",
            "678.0    561\n",
            "684.0    459\n",
            "667.0    408\n",
            "683.0    395\n",
            "        ... \n",
            "441.0      1\n",
            "367.0      1\n",
            "423.0      1\n",
            "405.0      1\n",
            "427.0      1\n",
            "Name: count, Length: 444, dtype: int64\n",
            "Geography\n",
            "France     23469\n",
            "Spain       9057\n",
            "Germany     8732\n",
            "Name: count, dtype: int64\n",
            "Gender\n",
            "Male      23219\n",
            "Female    18039\n",
            "Name: count, dtype: int64\n",
            "Age\n",
            "37.00    2351\n",
            "38.00    2317\n",
            "35.00    2241\n",
            "34.00    2148\n",
            "36.00    2135\n",
            "         ... \n",
            "83.00       1\n",
            "84.00       1\n",
            "85.00       1\n",
            "36.44       1\n",
            "81.00       1\n",
            "Name: count, Length: 71, dtype: int64\n",
            "Tenure\n",
            "7     4516\n",
            "2     4469\n",
            "8     4424\n",
            "5     4297\n",
            "4     4253\n",
            "9     4240\n",
            "1     4177\n",
            "3     4114\n",
            "6     3960\n",
            "10    1491\n",
            "0     1317\n",
            "Name: count, dtype: int64\n",
            "Balance\n",
            "0.00         22471\n",
            "124577.33       26\n",
            "129855.32       20\n",
            "122314.50       18\n",
            "132876.23       16\n",
            "             ...  \n",
            "125879.29        1\n",
            "124197.26        1\n",
            "142996.63        1\n",
            "103421.80        1\n",
            "129938.64        1\n",
            "Name: count, Length: 11410, dtype: int64\n",
            "NumOfProducts\n",
            "2    21080\n",
            "1    19305\n",
            "3      758\n",
            "4      115\n",
            "Name: count, dtype: int64\n",
            "HasCrCard\n",
            "1    31109\n",
            "0    10149\n",
            "Name: count, dtype: int64\n",
            "IsActiveMember\n",
            "0    20762\n",
            "1    20496\n",
            "Name: count, dtype: int64\n",
            "EstimatedSalary\n",
            "88890.05     40\n",
            "131736.23    29\n",
            "129964.94    28\n",
            "120853.83    27\n",
            "140941.47    26\n",
            "             ..\n",
            "126521.00     1\n",
            "158613.87     1\n",
            "161353.96     1\n",
            "195668.00     1\n",
            "48217.64      1\n",
            "Name: count, Length: 20841, dtype: int64\n",
            "churn\n",
            "0    32410\n",
            "1     8848\n",
            "Name: count, dtype: int64\n"
          ]
        }
      ],
      "source": [
        "for i in df.columns:\n",
        "  print(df[i].value_counts())"
      ]
    },
    {
      "cell_type": "markdown",
      "id": "HPxCZXetBAi1",
      "metadata": {
        "id": "HPxCZXetBAi1"
      },
      "source": [
        "### Data Preprocessing"
      ]
    },
    {
      "cell_type": "markdown",
      "id": "ADhUYDmiBj0e",
      "metadata": {
        "id": "ADhUYDmiBj0e"
      },
      "source": [
        "\n",
        "In the previous code, we observed that the `Unnamed: 0`, `id`, `CustomerId`, and `Surname` columns have a high number of unique values because it is unique to each customer, which can adversely affect the machine learning model's performance. Therefore, it's crucial to drop these columns to enhance the model's optimality."
      ]
    },
    {
      "cell_type": "code",
      "execution_count": 10,
      "id": "kFv-hNd6BkSb",
      "metadata": {
        "id": "kFv-hNd6BkSb"
      },
      "outputs": [],
      "source": [
        "df.drop(['Unnamed: 0', 'id', 'CustomerId', 'Surname'], axis =1, inplace=True)"
      ]
    },
    {
      "cell_type": "code",
      "execution_count": 11,
      "id": "s82M0SY2CB2a",
      "metadata": {
        "colab": {
          "base_uri": "https://localhost:8080/",
          "height": 112
        },
        "id": "s82M0SY2CB2a",
        "outputId": "5564360a-ac40-4989-8b98-39e001fad7ba"
      },
      "outputs": [
        {
          "data": {
            "application/vnd.google.colaboratory.intrinsic+json": {
              "summary": "{\n  \"name\": \"df\",\n  \"rows\": 41258,\n  \"fields\": [\n    {\n      \"column\": \"CreditScore\",\n      \"properties\": {\n        \"dtype\": \"number\",\n        \"std\": 79.73629763639165,\n        \"min\": 350.0,\n        \"max\": 850.0,\n        \"num_unique_values\": 444,\n        \"samples\": [\n          446.0,\n          815.0,\n          633.0\n        ],\n        \"semantic_type\": \"\",\n        \"description\": \"\"\n      }\n    },\n    {\n      \"column\": \"Geography\",\n      \"properties\": {\n        \"dtype\": \"category\",\n        \"num_unique_values\": 3,\n        \"samples\": [\n          \"Spain\",\n          \"France\",\n          \"Germany\"\n        ],\n        \"semantic_type\": \"\",\n        \"description\": \"\"\n      }\n    },\n    {\n      \"column\": \"Gender\",\n      \"properties\": {\n        \"dtype\": \"category\",\n        \"num_unique_values\": 2,\n        \"samples\": [\n          \"Male\",\n          \"Female\"\n        ],\n        \"semantic_type\": \"\",\n        \"description\": \"\"\n      }\n    },\n    {\n      \"column\": \"Age\",\n      \"properties\": {\n        \"dtype\": \"number\",\n        \"std\": 8.947665292837156,\n        \"min\": 18.0,\n        \"max\": 92.0,\n        \"num_unique_values\": 71,\n        \"samples\": [\n          59.0,\n          50.0\n        ],\n        \"semantic_type\": \"\",\n        \"description\": \"\"\n      }\n    },\n    {\n      \"column\": \"Tenure\",\n      \"properties\": {\n        \"dtype\": \"number\",\n        \"std\": 2,\n        \"min\": 0,\n        \"max\": 10,\n        \"num_unique_values\": 11,\n        \"samples\": [\n          3,\n          4\n        ],\n        \"semantic_type\": \"\",\n        \"description\": \"\"\n      }\n    },\n    {\n      \"column\": \"Balance\",\n      \"properties\": {\n        \"dtype\": \"number\",\n        \"std\": 62795.53095016127,\n        \"min\": 0.0,\n        \"max\": 238387.56,\n        \"num_unique_values\": 11410,\n        \"samples\": [\n          131151.09,\n          106854.21\n        ],\n        \"semantic_type\": \"\",\n        \"description\": \"\"\n      }\n    },\n    {\n      \"column\": \"NumOfProducts\",\n      \"properties\": {\n        \"dtype\": \"number\",\n        \"std\": 0,\n        \"min\": 1,\n        \"max\": 4,\n        \"num_unique_values\": 4,\n        \"samples\": [\n          2,\n          4\n        ],\n        \"semantic_type\": \"\",\n        \"description\": \"\"\n      }\n    },\n    {\n      \"column\": \"HasCrCard\",\n      \"properties\": {\n        \"dtype\": \"number\",\n        \"std\": 0,\n        \"min\": 0,\n        \"max\": 1,\n        \"num_unique_values\": 2,\n        \"samples\": [\n          0,\n          1\n        ],\n        \"semantic_type\": \"\",\n        \"description\": \"\"\n      }\n    },\n    {\n      \"column\": \"IsActiveMember\",\n      \"properties\": {\n        \"dtype\": \"number\",\n        \"std\": 0,\n        \"min\": 0,\n        \"max\": 1,\n        \"num_unique_values\": 2,\n        \"samples\": [\n          0,\n          1\n        ],\n        \"semantic_type\": \"\",\n        \"description\": \"\"\n      }\n    },\n    {\n      \"column\": \"EstimatedSalary\",\n      \"properties\": {\n        \"dtype\": \"number\",\n        \"std\": 50048.66666271447,\n        \"min\": 11.58,\n        \"max\": 199992.48,\n        \"num_unique_values\": 20841,\n        \"samples\": [\n          168066.94,\n          180329.74\n        ],\n        \"semantic_type\": \"\",\n        \"description\": \"\"\n      }\n    },\n    {\n      \"column\": \"churn\",\n      \"properties\": {\n        \"dtype\": \"number\",\n        \"std\": 0,\n        \"min\": 0,\n        \"max\": 1,\n        \"num_unique_values\": 2,\n        \"samples\": [\n          1,\n          0\n        ],\n        \"semantic_type\": \"\",\n        \"description\": \"\"\n      }\n    }\n  ]\n}",
              "type": "dataframe",
              "variable_name": "df"
            },
            "text/html": [
              "\n",
              "  <div id=\"df-25a1ef56-dfbb-4645-86d2-d315fea53ed8\" class=\"colab-df-container\">\n",
              "    <div>\n",
              "<style scoped>\n",
              "    .dataframe tbody tr th:only-of-type {\n",
              "        vertical-align: middle;\n",
              "    }\n",
              "\n",
              "    .dataframe tbody tr th {\n",
              "        vertical-align: top;\n",
              "    }\n",
              "\n",
              "    .dataframe thead th {\n",
              "        text-align: right;\n",
              "    }\n",
              "</style>\n",
              "<table border=\"1\" class=\"dataframe\">\n",
              "  <thead>\n",
              "    <tr style=\"text-align: right;\">\n",
              "      <th></th>\n",
              "      <th>CreditScore</th>\n",
              "      <th>Geography</th>\n",
              "      <th>Gender</th>\n",
              "      <th>Age</th>\n",
              "      <th>Tenure</th>\n",
              "      <th>Balance</th>\n",
              "      <th>NumOfProducts</th>\n",
              "      <th>HasCrCard</th>\n",
              "      <th>IsActiveMember</th>\n",
              "      <th>EstimatedSalary</th>\n",
              "      <th>churn</th>\n",
              "    </tr>\n",
              "  </thead>\n",
              "  <tbody>\n",
              "    <tr>\n",
              "      <th>0</th>\n",
              "      <td>628.0</td>\n",
              "      <td>Spain</td>\n",
              "      <td>Female</td>\n",
              "      <td>50.0</td>\n",
              "      <td>4</td>\n",
              "      <td>160133.08</td>\n",
              "      <td>1</td>\n",
              "      <td>1</td>\n",
              "      <td>1</td>\n",
              "      <td>653.53</td>\n",
              "      <td>0</td>\n",
              "    </tr>\n",
              "    <tr>\n",
              "      <th>1</th>\n",
              "      <td>710.0</td>\n",
              "      <td>Spain</td>\n",
              "      <td>Male</td>\n",
              "      <td>34.0</td>\n",
              "      <td>8</td>\n",
              "      <td>0.00</td>\n",
              "      <td>2</td>\n",
              "      <td>1</td>\n",
              "      <td>1</td>\n",
              "      <td>72993.73</td>\n",
              "      <td>0</td>\n",
              "    </tr>\n",
              "  </tbody>\n",
              "</table>\n",
              "</div>\n",
              "    <div class=\"colab-df-buttons\">\n",
              "\n",
              "  <div class=\"colab-df-container\">\n",
              "    <button class=\"colab-df-convert\" onclick=\"convertToInteractive('df-25a1ef56-dfbb-4645-86d2-d315fea53ed8')\"\n",
              "            title=\"Convert this dataframe to an interactive table.\"\n",
              "            style=\"display:none;\">\n",
              "\n",
              "  <svg xmlns=\"http://www.w3.org/2000/svg\" height=\"24px\" viewBox=\"0 -960 960 960\">\n",
              "    <path d=\"M120-120v-720h720v720H120Zm60-500h600v-160H180v160Zm220 220h160v-160H400v160Zm0 220h160v-160H400v160ZM180-400h160v-160H180v160Zm440 0h160v-160H620v160ZM180-180h160v-160H180v160Zm440 0h160v-160H620v160Z\"/>\n",
              "  </svg>\n",
              "    </button>\n",
              "\n",
              "  <style>\n",
              "    .colab-df-container {\n",
              "      display:flex;\n",
              "      gap: 12px;\n",
              "    }\n",
              "\n",
              "    .colab-df-convert {\n",
              "      background-color: #E8F0FE;\n",
              "      border: none;\n",
              "      border-radius: 50%;\n",
              "      cursor: pointer;\n",
              "      display: none;\n",
              "      fill: #1967D2;\n",
              "      height: 32px;\n",
              "      padding: 0 0 0 0;\n",
              "      width: 32px;\n",
              "    }\n",
              "\n",
              "    .colab-df-convert:hover {\n",
              "      background-color: #E2EBFA;\n",
              "      box-shadow: 0px 1px 2px rgba(60, 64, 67, 0.3), 0px 1px 3px 1px rgba(60, 64, 67, 0.15);\n",
              "      fill: #174EA6;\n",
              "    }\n",
              "\n",
              "    .colab-df-buttons div {\n",
              "      margin-bottom: 4px;\n",
              "    }\n",
              "\n",
              "    [theme=dark] .colab-df-convert {\n",
              "      background-color: #3B4455;\n",
              "      fill: #D2E3FC;\n",
              "    }\n",
              "\n",
              "    [theme=dark] .colab-df-convert:hover {\n",
              "      background-color: #434B5C;\n",
              "      box-shadow: 0px 1px 3px 1px rgba(0, 0, 0, 0.15);\n",
              "      filter: drop-shadow(0px 1px 2px rgba(0, 0, 0, 0.3));\n",
              "      fill: #FFFFFF;\n",
              "    }\n",
              "  </style>\n",
              "\n",
              "    <script>\n",
              "      const buttonEl =\n",
              "        document.querySelector('#df-25a1ef56-dfbb-4645-86d2-d315fea53ed8 button.colab-df-convert');\n",
              "      buttonEl.style.display =\n",
              "        google.colab.kernel.accessAllowed ? 'block' : 'none';\n",
              "\n",
              "      async function convertToInteractive(key) {\n",
              "        const element = document.querySelector('#df-25a1ef56-dfbb-4645-86d2-d315fea53ed8');\n",
              "        const dataTable =\n",
              "          await google.colab.kernel.invokeFunction('convertToInteractive',\n",
              "                                                    [key], {});\n",
              "        if (!dataTable) return;\n",
              "\n",
              "        const docLinkHtml = 'Like what you see? Visit the ' +\n",
              "          '<a target=\"_blank\" href=https://colab.research.google.com/notebooks/data_table.ipynb>data table notebook</a>'\n",
              "          + ' to learn more about interactive tables.';\n",
              "        element.innerHTML = '';\n",
              "        dataTable['output_type'] = 'display_data';\n",
              "        await google.colab.output.renderOutput(dataTable, element);\n",
              "        const docLink = document.createElement('div');\n",
              "        docLink.innerHTML = docLinkHtml;\n",
              "        element.appendChild(docLink);\n",
              "      }\n",
              "    </script>\n",
              "  </div>\n",
              "\n",
              "\n",
              "<div id=\"df-6a852287-dcab-48bb-b96c-9ca443194c4d\">\n",
              "  <button class=\"colab-df-quickchart\" onclick=\"quickchart('df-6a852287-dcab-48bb-b96c-9ca443194c4d')\"\n",
              "            title=\"Suggest charts\"\n",
              "            style=\"display:none;\">\n",
              "\n",
              "<svg xmlns=\"http://www.w3.org/2000/svg\" height=\"24px\"viewBox=\"0 0 24 24\"\n",
              "     width=\"24px\">\n",
              "    <g>\n",
              "        <path d=\"M19 3H5c-1.1 0-2 .9-2 2v14c0 1.1.9 2 2 2h14c1.1 0 2-.9 2-2V5c0-1.1-.9-2-2-2zM9 17H7v-7h2v7zm4 0h-2V7h2v10zm4 0h-2v-4h2v4z\"/>\n",
              "    </g>\n",
              "</svg>\n",
              "  </button>\n",
              "\n",
              "<style>\n",
              "  .colab-df-quickchart {\n",
              "      --bg-color: #E8F0FE;\n",
              "      --fill-color: #1967D2;\n",
              "      --hover-bg-color: #E2EBFA;\n",
              "      --hover-fill-color: #174EA6;\n",
              "      --disabled-fill-color: #AAA;\n",
              "      --disabled-bg-color: #DDD;\n",
              "  }\n",
              "\n",
              "  [theme=dark] .colab-df-quickchart {\n",
              "      --bg-color: #3B4455;\n",
              "      --fill-color: #D2E3FC;\n",
              "      --hover-bg-color: #434B5C;\n",
              "      --hover-fill-color: #FFFFFF;\n",
              "      --disabled-bg-color: #3B4455;\n",
              "      --disabled-fill-color: #666;\n",
              "  }\n",
              "\n",
              "  .colab-df-quickchart {\n",
              "    background-color: var(--bg-color);\n",
              "    border: none;\n",
              "    border-radius: 50%;\n",
              "    cursor: pointer;\n",
              "    display: none;\n",
              "    fill: var(--fill-color);\n",
              "    height: 32px;\n",
              "    padding: 0;\n",
              "    width: 32px;\n",
              "  }\n",
              "\n",
              "  .colab-df-quickchart:hover {\n",
              "    background-color: var(--hover-bg-color);\n",
              "    box-shadow: 0 1px 2px rgba(60, 64, 67, 0.3), 0 1px 3px 1px rgba(60, 64, 67, 0.15);\n",
              "    fill: var(--button-hover-fill-color);\n",
              "  }\n",
              "\n",
              "  .colab-df-quickchart-complete:disabled,\n",
              "  .colab-df-quickchart-complete:disabled:hover {\n",
              "    background-color: var(--disabled-bg-color);\n",
              "    fill: var(--disabled-fill-color);\n",
              "    box-shadow: none;\n",
              "  }\n",
              "\n",
              "  .colab-df-spinner {\n",
              "    border: 2px solid var(--fill-color);\n",
              "    border-color: transparent;\n",
              "    border-bottom-color: var(--fill-color);\n",
              "    animation:\n",
              "      spin 1s steps(1) infinite;\n",
              "  }\n",
              "\n",
              "  @keyframes spin {\n",
              "    0% {\n",
              "      border-color: transparent;\n",
              "      border-bottom-color: var(--fill-color);\n",
              "      border-left-color: var(--fill-color);\n",
              "    }\n",
              "    20% {\n",
              "      border-color: transparent;\n",
              "      border-left-color: var(--fill-color);\n",
              "      border-top-color: var(--fill-color);\n",
              "    }\n",
              "    30% {\n",
              "      border-color: transparent;\n",
              "      border-left-color: var(--fill-color);\n",
              "      border-top-color: var(--fill-color);\n",
              "      border-right-color: var(--fill-color);\n",
              "    }\n",
              "    40% {\n",
              "      border-color: transparent;\n",
              "      border-right-color: var(--fill-color);\n",
              "      border-top-color: var(--fill-color);\n",
              "    }\n",
              "    60% {\n",
              "      border-color: transparent;\n",
              "      border-right-color: var(--fill-color);\n",
              "    }\n",
              "    80% {\n",
              "      border-color: transparent;\n",
              "      border-right-color: var(--fill-color);\n",
              "      border-bottom-color: var(--fill-color);\n",
              "    }\n",
              "    90% {\n",
              "      border-color: transparent;\n",
              "      border-bottom-color: var(--fill-color);\n",
              "    }\n",
              "  }\n",
              "</style>\n",
              "\n",
              "  <script>\n",
              "    async function quickchart(key) {\n",
              "      const quickchartButtonEl =\n",
              "        document.querySelector('#' + key + ' button');\n",
              "      quickchartButtonEl.disabled = true;  // To prevent multiple clicks.\n",
              "      quickchartButtonEl.classList.add('colab-df-spinner');\n",
              "      try {\n",
              "        const charts = await google.colab.kernel.invokeFunction(\n",
              "            'suggestCharts', [key], {});\n",
              "      } catch (error) {\n",
              "        console.error('Error during call to suggestCharts:', error);\n",
              "      }\n",
              "      quickchartButtonEl.classList.remove('colab-df-spinner');\n",
              "      quickchartButtonEl.classList.add('colab-df-quickchart-complete');\n",
              "    }\n",
              "    (() => {\n",
              "      let quickchartButtonEl =\n",
              "        document.querySelector('#df-6a852287-dcab-48bb-b96c-9ca443194c4d button');\n",
              "      quickchartButtonEl.style.display =\n",
              "        google.colab.kernel.accessAllowed ? 'block' : 'none';\n",
              "    })();\n",
              "  </script>\n",
              "</div>\n",
              "    </div>\n",
              "  </div>\n"
            ],
            "text/plain": [
              "   CreditScore Geography  Gender   Age  Tenure    Balance  NumOfProducts  \\\n",
              "0        628.0     Spain  Female  50.0       4  160133.08              1   \n",
              "1        710.0     Spain    Male  34.0       8       0.00              2   \n",
              "\n",
              "   HasCrCard  IsActiveMember  EstimatedSalary  churn  \n",
              "0          1               1           653.53      0  \n",
              "1          1               1         72993.73      0  "
            ]
          },
          "execution_count": 11,
          "metadata": {},
          "output_type": "execute_result"
        }
      ],
      "source": [
        "df.head(2)"
      ]
    },
    {
      "cell_type": "markdown",
      "id": "S1KDY3sPDRxt",
      "metadata": {
        "id": "S1KDY3sPDRxt"
      },
      "source": [
        "We can see that both of the columns is already dropped"
      ]
    },
    {
      "cell_type": "markdown",
      "id": "wEuVnSCXBIOZ",
      "metadata": {
        "id": "wEuVnSCXBIOZ"
      },
      "source": [
        "### Data Splitting"
      ]
    },
    {
      "cell_type": "markdown",
      "id": "GTNFMi29r3_6",
      "metadata": {
        "id": "GTNFMi29r3_6"
      },
      "source": [
        "\n",
        "Splitting the dataset into training and test sets before delving into exploratory data analysis (EDA) and feature engineering is essential for constructing robust and dependable machine learning models."
      ]
    },
    {
      "cell_type": "code",
      "execution_count": 12,
      "id": "qtE--2edBJ8U",
      "metadata": {
        "id": "qtE--2edBJ8U"
      },
      "outputs": [],
      "source": [
        "input_df = df.drop('churn', axis = 1)\n",
        "output_df = df['churn']"
      ]
    },
    {
      "cell_type": "code",
      "execution_count": 13,
      "id": "xE_94E1crTpk",
      "metadata": {
        "id": "xE_94E1crTpk"
      },
      "outputs": [],
      "source": [
        "from sklearn.model_selection import train_test_split\n",
        "x_train, x_test, y_train, y_test = train_test_split(input_df, output_df, test_size = 0.20, random_state = 42)"
      ]
    },
    {
      "cell_type": "markdown",
      "id": "FFSEBhaeBKRp",
      "metadata": {
        "id": "FFSEBhaeBKRp"
      },
      "source": [
        "### Feature Engineering"
      ]
    },
    {
      "cell_type": "markdown",
      "id": "xNJN4wTQVz2C",
      "metadata": {
        "id": "xNJN4wTQVz2C"
      },
      "source": [
        "##### Fill in Missing Values"
      ]
    },
    {
      "cell_type": "code",
      "execution_count": 14,
      "id": "DmS-O0ILV_WC",
      "metadata": {
        "colab": {
          "base_uri": "https://localhost:8080/"
        },
        "id": "DmS-O0ILV_WC",
        "outputId": "a47ee505-943a-4223-cbb1-c0559c59373d"
      },
      "outputs": [
        {
          "data": {
            "text/plain": [
              "CreditScore        9\n",
              "Geography          0\n",
              "Gender             0\n",
              "Age                0\n",
              "Tenure             0\n",
              "Balance            0\n",
              "NumOfProducts      0\n",
              "HasCrCard          0\n",
              "IsActiveMember     0\n",
              "EstimatedSalary    0\n",
              "dtype: int64"
            ]
          },
          "execution_count": 14,
          "metadata": {},
          "output_type": "execute_result"
        }
      ],
      "source": [
        "x_train.isnull().sum()"
      ]
    },
    {
      "cell_type": "code",
      "execution_count": 15,
      "id": "78GJnlwbXcZm",
      "metadata": {
        "colab": {
          "base_uri": "https://localhost:8080/"
        },
        "id": "78GJnlwbXcZm",
        "outputId": "2aeb8d96-f42f-4150-8cde-dd6365d79322"
      },
      "outputs": [
        {
          "data": {
            "text/plain": [
              "CreditScore        3\n",
              "Geography          0\n",
              "Gender             0\n",
              "Age                0\n",
              "Tenure             0\n",
              "Balance            0\n",
              "NumOfProducts      0\n",
              "HasCrCard          0\n",
              "IsActiveMember     0\n",
              "EstimatedSalary    0\n",
              "dtype: int64"
            ]
          },
          "execution_count": 15,
          "metadata": {},
          "output_type": "execute_result"
        }
      ],
      "source": [
        "x_test.isnull().sum()"
      ]
    },
    {
      "cell_type": "code",
      "execution_count": 16,
      "id": "vgmI9wmqBCRn",
      "metadata": {
        "colab": {
          "base_uri": "https://localhost:8080/"
        },
        "id": "vgmI9wmqBCRn",
        "outputId": "127b1323-0827-4fea-e998-4cdfda96a560"
      },
      "outputs": [
        {
          "name": "stdout",
          "output_type": "stream",
          "text": [
            "Percentage of outliers in each column:\n",
            "CreditScore : 0.11%\n"
          ]
        }
      ],
      "source": [
        "cols = ['CreditScore']\n",
        "\n",
        "def count_outliers_iqr(df):\n",
        "    outliers_count = {}\n",
        "    for col in df[cols]:\n",
        "        if pd.api.types.is_numeric_dtype(df[col]):\n",
        "            q1 = df[col].quantile(0.25)\n",
        "            q3 = df[col].quantile(0.75)\n",
        "            iqr = q3 - q1\n",
        "            lower_bound = q1 - 1.5 * iqr\n",
        "            upper_bound = q3 + 1.5 * iqr\n",
        "            outliers_count[col] = df[(df[col] < lower_bound) | (df[col] > upper_bound)][col].count()\n",
        "    return outliers_count\n",
        "\n",
        "outliers_count_iqr = count_outliers_iqr(x_train)\n",
        "length_data = df.shape[0]\n",
        "\n",
        "print(\"Percentage of outliers in each column:\")\n",
        "for i in df[cols]:\n",
        "    percentage_outliers = (outliers_count_iqr[i] / length_data) * 100\n",
        "    print(i, \":\", f\"{percentage_outliers:.2f}%\")"
      ]
    },
    {
      "cell_type": "code",
      "execution_count": 17,
      "id": "ck4nX7j9Xp5g",
      "metadata": {
        "colab": {
          "base_uri": "https://localhost:8080/"
        },
        "id": "ck4nX7j9Xp5g",
        "outputId": "2e6099a2-c4d2-4d18-e623-4ec4820b1ad7"
      },
      "outputs": [
        {
          "name": "stdout",
          "output_type": "stream",
          "text": [
            "Percentage of outliers in each column:\n",
            "CreditScore : 0.03%\n"
          ]
        }
      ],
      "source": [
        "cols = ['CreditScore']\n",
        "\n",
        "def count_outliers_iqr(df):\n",
        "    outliers_count = {}\n",
        "    for col in df[cols]:\n",
        "        if pd.api.types.is_numeric_dtype(df[col]):\n",
        "            q1 = df[col].quantile(0.25)\n",
        "            q3 = df[col].quantile(0.75)\n",
        "            iqr = q3 - q1\n",
        "            lower_bound = q1 - 1.5 * iqr\n",
        "            upper_bound = q3 + 1.5 * iqr\n",
        "            outliers_count[col] = df[(df[col] < lower_bound) | (df[col] > upper_bound)][col].count()\n",
        "    return outliers_count\n",
        "\n",
        "outliers_count_iqr = count_outliers_iqr(x_test)\n",
        "length_data = df.shape[0]\n",
        "\n",
        "print(\"Percentage of outliers in each column:\")\n",
        "for i in df[cols]:\n",
        "    percentage_outliers = (outliers_count_iqr[i] / length_data) * 100\n",
        "    print(i, \":\", f\"{percentage_outliers:.2f}%\")"
      ]
    },
    {
      "cell_type": "markdown",
      "id": "sD15mt9XXtwX",
      "metadata": {
        "id": "sD15mt9XXtwX"
      },
      "source": [
        "We can see that both `CreditScore` in x_train and x_test has an outlier"
      ]
    },
    {
      "cell_type": "code",
      "execution_count": 18,
      "id": "EaVbkls-wKda",
      "metadata": {
        "id": "EaVbkls-wKda"
      },
      "outputs": [],
      "source": [
        "x_train['CreditScore'].fillna(x_train['CreditScore'].median(), inplace=True)\n",
        "x_test['CreditScore'].fillna(x_test['CreditScore'].median(), inplace=True)"
      ]
    },
    {
      "cell_type": "code",
      "execution_count": 19,
      "id": "aMZhY2AhwRNb",
      "metadata": {
        "colab": {
          "base_uri": "https://localhost:8080/"
        },
        "id": "aMZhY2AhwRNb",
        "outputId": "19c77824-711d-4f22-81bd-012a7ef9c16e"
      },
      "outputs": [
        {
          "data": {
            "text/plain": [
              "CreditScore        0\n",
              "Geography          0\n",
              "Gender             0\n",
              "Age                0\n",
              "Tenure             0\n",
              "Balance            0\n",
              "NumOfProducts      0\n",
              "HasCrCard          0\n",
              "IsActiveMember     0\n",
              "EstimatedSalary    0\n",
              "dtype: int64"
            ]
          },
          "execution_count": 19,
          "metadata": {},
          "output_type": "execute_result"
        }
      ],
      "source": [
        "x_train.isnull().sum()"
      ]
    },
    {
      "cell_type": "code",
      "execution_count": 20,
      "id": "CEvVAi7_YCNx",
      "metadata": {
        "colab": {
          "base_uri": "https://localhost:8080/"
        },
        "id": "CEvVAi7_YCNx",
        "outputId": "6fcf9605-2353-4f4d-be57-14505eb41cf0"
      },
      "outputs": [
        {
          "data": {
            "text/plain": [
              "CreditScore        0\n",
              "Geography          0\n",
              "Gender             0\n",
              "Age                0\n",
              "Tenure             0\n",
              "Balance            0\n",
              "NumOfProducts      0\n",
              "HasCrCard          0\n",
              "IsActiveMember     0\n",
              "EstimatedSalary    0\n",
              "dtype: int64"
            ]
          },
          "execution_count": 20,
          "metadata": {},
          "output_type": "execute_result"
        }
      ],
      "source": [
        "x_test.isnull().sum()"
      ]
    },
    {
      "cell_type": "markdown",
      "id": "WxTpdjB2lHC_",
      "metadata": {
        "id": "WxTpdjB2lHC_"
      },
      "source": [
        "##### Scaling"
      ]
    },
    {
      "cell_type": "markdown",
      "id": "4Pfi7u6FplXh",
      "metadata": {
        "id": "4Pfi7u6FplXh"
      },
      "source": [
        "\n",
        "To address the varying ranges in the columns and potential bias in the model, scaling is necessary. For columns without outliers, MinMaxScaler is suitable, while RobustScaler is more appropriate for columns with outliers. This approach ensures that the data is normalized effectively, reducing the impact of differing ranges on the model's performance."
      ]
    },
    {
      "cell_type": "code",
      "execution_count": 25,
      "id": "onaO6Ijckic4",
      "metadata": {
        "colab": {
          "base_uri": "https://localhost:8080/"
        },
        "id": "onaO6Ijckic4",
        "outputId": "84856b7e-b1d7-4ac4-ffb8-623890dfbed6"
      },
      "outputs": [
        {
          "name": "stdout",
          "output_type": "stream",
          "text": [
            "Percentage of outliers in each column:\n",
            "CreditScore : 0.03%\n",
            "Age : 0.59%\n",
            "Tenure : 0.00%\n",
            "Balance : 0.00%\n",
            "NumOfProducts : 0.06%\n",
            "EstimatedSalary : 0.00%\n"
          ]
        }
      ],
      "source": [
        "cols = ['CreditScore', 'Age', 'Tenure', 'Balance', 'NumOfProducts', 'EstimatedSalary']\n",
        "\n",
        "def count_outliers_iqr(df):\n",
        "    outliers_count = {}\n",
        "    for col in df[cols]:\n",
        "        if pd.api.types.is_numeric_dtype(df[col]):\n",
        "            q1 = df[col].quantile(0.25)\n",
        "            q3 = df[col].quantile(0.75)\n",
        "            iqr = q3 - q1\n",
        "            lower_bound = q1 - 1.5 * iqr\n",
        "            upper_bound = q3 + 1.5 * iqr\n",
        "            outliers_count[col] = df[(df[col] < lower_bound) | (df[col] > upper_bound)][col].count()\n",
        "    return outliers_count\n",
        "\n",
        "outliers_count_iqr = count_outliers_iqr(x_test)\n",
        "length_data = df.shape[0]\n",
        "\n",
        "print(\"Percentage of outliers in each column:\")\n",
        "for i in df[cols]:\n",
        "    percentage_outliers = (outliers_count_iqr[i] / length_data) * 100\n",
        "    print(i, \":\", f\"{percentage_outliers:.2f}%\")"
      ]
    },
    {
      "cell_type": "code",
      "execution_count": 26,
      "id": "2WjaLT1YlIse",
      "metadata": {
        "id": "2WjaLT1YlIse"
      },
      "outputs": [],
      "source": [
        "from sklearn.preprocessing import RobustScaler\n",
        "columns = ['CreditScore', 'Age', 'NumOfProducts']\n",
        "\n",
        "scaler = RobustScaler()\n",
        "\n",
        "x_train[columns] = scaler.fit_transform(x_train[columns])\n",
        "x_test[columns] = scaler.transform(x_test[columns])"
      ]
    },
    {
      "cell_type": "code",
      "execution_count": 27,
      "id": "gHnVRc8qlLB7",
      "metadata": {
        "id": "gHnVRc8qlLB7"
      },
      "outputs": [],
      "source": [
        "from sklearn.preprocessing import MinMaxScaler\n",
        "columns = ['Tenure', 'Balance', 'EstimatedSalary']\n",
        "\n",
        "scaler = MinMaxScaler()\n",
        "\n",
        "x_train[columns] = scaler.fit_transform(x_train[columns])\n",
        "x_test[columns] = scaler.transform(x_test[columns])"
      ]
    },
    {
      "cell_type": "markdown",
      "id": "y0IdT6CDqKj0",
      "metadata": {
        "id": "y0IdT6CDqKj0"
      },
      "source": [
        "### Encoding"
      ]
    },
    {
      "cell_type": "code",
      "execution_count": 21,
      "id": "e8nHtV3XrpDB",
      "metadata": {
        "colab": {
          "base_uri": "https://localhost:8080/"
        },
        "id": "e8nHtV3XrpDB",
        "outputId": "44c3f181-72d2-4b67-fab6-8b1d09a86200"
      },
      "outputs": [
        {
          "name": "stdout",
          "output_type": "stream",
          "text": [
            "<class 'pandas.core.frame.DataFrame'>\n",
            "Index: 8252 entries, 22930 to 28660\n",
            "Data columns (total 10 columns):\n",
            " #   Column           Non-Null Count  Dtype  \n",
            "---  ------           --------------  -----  \n",
            " 0   CreditScore      8252 non-null   float64\n",
            " 1   Geography        8252 non-null   object \n",
            " 2   Gender           8252 non-null   object \n",
            " 3   Age              8252 non-null   float64\n",
            " 4   Tenure           8252 non-null   int64  \n",
            " 5   Balance          8252 non-null   float64\n",
            " 6   NumOfProducts    8252 non-null   int64  \n",
            " 7   HasCrCard        8252 non-null   int64  \n",
            " 8   IsActiveMember   8252 non-null   int64  \n",
            " 9   EstimatedSalary  8252 non-null   float64\n",
            "dtypes: float64(4), int64(4), object(2)\n",
            "memory usage: 709.2+ KB\n"
          ]
        }
      ],
      "source": [
        "x_test.info()"
      ]
    },
    {
      "cell_type": "code",
      "execution_count": 22,
      "id": "oTFQfOc6YIxo",
      "metadata": {
        "colab": {
          "base_uri": "https://localhost:8080/"
        },
        "id": "oTFQfOc6YIxo",
        "outputId": "04880a26-5ae1-4809-9e24-9ac06ac74e66"
      },
      "outputs": [
        {
          "name": "stdout",
          "output_type": "stream",
          "text": [
            "<class 'pandas.core.frame.DataFrame'>\n",
            "Index: 33006 entries, 15731 to 15795\n",
            "Data columns (total 10 columns):\n",
            " #   Column           Non-Null Count  Dtype  \n",
            "---  ------           --------------  -----  \n",
            " 0   CreditScore      33006 non-null  float64\n",
            " 1   Geography        33006 non-null  object \n",
            " 2   Gender           33006 non-null  object \n",
            " 3   Age              33006 non-null  float64\n",
            " 4   Tenure           33006 non-null  int64  \n",
            " 5   Balance          33006 non-null  float64\n",
            " 6   NumOfProducts    33006 non-null  int64  \n",
            " 7   HasCrCard        33006 non-null  int64  \n",
            " 8   IsActiveMember   33006 non-null  int64  \n",
            " 9   EstimatedSalary  33006 non-null  float64\n",
            "dtypes: float64(4), int64(4), object(2)\n",
            "memory usage: 2.8+ MB\n"
          ]
        }
      ],
      "source": [
        "x_train.info()"
      ]
    },
    {
      "cell_type": "markdown",
      "id": "ZRbtfHO9seGI",
      "metadata": {
        "id": "ZRbtfHO9seGI"
      },
      "source": [
        "After seeing `x_test.info()` and `x_train.info()` we can see that  there are 2 columns that has `object` data type. So we need to fix it."
      ]
    },
    {
      "cell_type": "code",
      "execution_count": 23,
      "id": "epcQTOFesrK0",
      "metadata": {
        "colab": {
          "base_uri": "https://localhost:8080/"
        },
        "id": "epcQTOFesrK0",
        "outputId": "e5ba9fff-5265-46f1-af9b-57eb530c9c71"
      },
      "outputs": [
        {
          "data": {
            "text/plain": [
              "Geography\n",
              "France     18788\n",
              "Spain       7213\n",
              "Germany     7005\n",
              "Name: count, dtype: int64"
            ]
          },
          "execution_count": 23,
          "metadata": {},
          "output_type": "execute_result"
        }
      ],
      "source": [
        "x_train['Geography'].value_counts()"
      ]
    },
    {
      "cell_type": "code",
      "execution_count": 24,
      "id": "zWzDCXbyYivw",
      "metadata": {
        "colab": {
          "base_uri": "https://localhost:8080/"
        },
        "id": "zWzDCXbyYivw",
        "outputId": "a4513822-0620-407f-b7d0-770cc104f8d9"
      },
      "outputs": [
        {
          "data": {
            "text/plain": [
              "Gender\n",
              "Male      18532\n",
              "Female    14474\n",
              "Name: count, dtype: int64"
            ]
          },
          "execution_count": 24,
          "metadata": {},
          "output_type": "execute_result"
        }
      ],
      "source": [
        "x_train['Gender'].value_counts()"
      ]
    },
    {
      "cell_type": "markdown",
      "id": "6HpBQeA8tJy7",
      "metadata": {
        "id": "6HpBQeA8tJy7"
      },
      "source": [
        "We can see that `Geography` has 3 values and `Gender` has 2 values. Because both of them has no ordinal values, for `Geography` we will use one-hot encoding and for `Gender` we will use binary encoding because it only has 2 values."
      ]
    },
    {
      "cell_type": "markdown",
      "id": "lZjgce8sZArZ",
      "metadata": {
        "id": "lZjgce8sZArZ"
      },
      "source": [
        "##### One Hot Encoding"
      ]
    },
    {
      "cell_type": "code",
      "execution_count": 28,
      "id": "jHDZLAj1tskC",
      "metadata": {
        "id": "jHDZLAj1tskC"
      },
      "outputs": [],
      "source": [
        "from sklearn.preprocessing import OneHotEncoder\n",
        "x = x_train[['Geography']]\n",
        "train_geo_encoded = OneHotEncoder()\n",
        "train_data = pd.DataFrame(train_geo_encoded.fit_transform(x).toarray(),columns=train_geo_encoded.get_feature_names_out())\n",
        "x_train = x_train.reset_index()\n",
        "x_train = pd.concat([x_train,train_data], axis=1)"
      ]
    },
    {
      "cell_type": "code",
      "execution_count": 29,
      "id": "CjNFfWN0ZJdj",
      "metadata": {
        "colab": {
          "base_uri": "https://localhost:8080/",
          "height": 101
        },
        "id": "CjNFfWN0ZJdj",
        "outputId": "49077dbb-0028-4f44-b3b9-60b1af662bf2"
      },
      "outputs": [
        {
          "data": {
            "application/vnd.google.colaboratory.intrinsic+json": {
              "summary": "{\n  \"name\": \"x_train\",\n  \"rows\": 33006,\n  \"fields\": [\n    {\n      \"column\": \"index\",\n      \"properties\": {\n        \"dtype\": \"number\",\n        \"std\": 11894,\n        \"min\": 0,\n        \"max\": 41257,\n        \"num_unique_values\": 33006,\n        \"samples\": [\n          9601,\n          1630,\n          7562\n        ],\n        \"semantic_type\": \"\",\n        \"description\": \"\"\n      }\n    },\n    {\n      \"column\": \"CreditScore\",\n      \"properties\": {\n        \"dtype\": \"number\",\n        \"std\": 0.7058879748654439,\n        \"min\": -2.734513274336283,\n        \"max\": 1.6902654867256637,\n        \"num_unique_values\": 442,\n        \"samples\": [\n          0.4778761061946903,\n          -0.017699115044247787,\n          0.017699115044247787\n        ],\n        \"semantic_type\": \"\",\n        \"description\": \"\"\n      }\n    },\n    {\n      \"column\": \"Geography\",\n      \"properties\": {\n        \"dtype\": \"category\",\n        \"num_unique_values\": 3,\n        \"samples\": [\n          \"Spain\",\n          \"France\",\n          \"Germany\"\n        ],\n        \"semantic_type\": \"\",\n        \"description\": \"\"\n      }\n    },\n    {\n      \"column\": \"Gender\",\n      \"properties\": {\n        \"dtype\": \"category\",\n        \"num_unique_values\": 2,\n        \"samples\": [\n          \"Male\",\n          \"Female\"\n        ],\n        \"semantic_type\": \"\",\n        \"description\": \"\"\n      }\n    },\n    {\n      \"column\": \"Age\",\n      \"properties\": {\n        \"dtype\": \"number\",\n        \"std\": 0.8958740285168068,\n        \"min\": -1.9,\n        \"max\": 5.5,\n        \"num_unique_values\": 70,\n        \"samples\": [\n          1.6,\n          -0.6\n        ],\n        \"semantic_type\": \"\",\n        \"description\": \"\"\n      }\n    },\n    {\n      \"column\": \"Tenure\",\n      \"properties\": {\n        \"dtype\": \"number\",\n        \"std\": 0.28187840688026444,\n        \"min\": 0.0,\n        \"max\": 1.0,\n        \"num_unique_values\": 11,\n        \"samples\": [\n          0.0,\n          0.2\n        ],\n        \"semantic_type\": \"\",\n        \"description\": \"\"\n      }\n    },\n    {\n      \"column\": \"Balance\",\n      \"properties\": {\n        \"dtype\": \"number\",\n        \"std\": 0.26382782735117133,\n        \"min\": 0.0,\n        \"max\": 1.0,\n        \"num_unique_values\": 9797,\n        \"samples\": [\n          0.38292618960486025,\n          0.4026845192760897\n        ],\n        \"semantic_type\": \"\",\n        \"description\": \"\"\n      }\n    },\n    {\n      \"column\": \"NumOfProducts\",\n      \"properties\": {\n        \"dtype\": \"number\",\n        \"std\": 0.5467343409019486,\n        \"min\": -1.0,\n        \"max\": 2.0,\n        \"num_unique_values\": 4,\n        \"samples\": [\n          -1.0,\n          2.0\n        ],\n        \"semantic_type\": \"\",\n        \"description\": \"\"\n      }\n    },\n    {\n      \"column\": \"HasCrCard\",\n      \"properties\": {\n        \"dtype\": \"number\",\n        \"std\": 0,\n        \"min\": 0,\n        \"max\": 1,\n        \"num_unique_values\": 2,\n        \"samples\": [\n          1,\n          0\n        ],\n        \"semantic_type\": \"\",\n        \"description\": \"\"\n      }\n    },\n    {\n      \"column\": \"IsActiveMember\",\n      \"properties\": {\n        \"dtype\": \"number\",\n        \"std\": 0,\n        \"min\": 0,\n        \"max\": 1,\n        \"num_unique_values\": 2,\n        \"samples\": [\n          1,\n          0\n        ],\n        \"semantic_type\": \"\",\n        \"description\": \"\"\n      }\n    },\n    {\n      \"column\": \"EstimatedSalary\",\n      \"properties\": {\n        \"dtype\": \"number\",\n        \"std\": 0.25039662461026196,\n        \"min\": 0.0,\n        \"max\": 1.0,\n        \"num_unique_values\": 17876,\n        \"samples\": [\n          0.7051244893887366,\n          0.41353059217155236\n        ],\n        \"semantic_type\": \"\",\n        \"description\": \"\"\n      }\n    },\n    {\n      \"column\": \"Geography_France\",\n      \"properties\": {\n        \"dtype\": \"number\",\n        \"std\": 0.4951915377563421,\n        \"min\": 0.0,\n        \"max\": 1.0,\n        \"num_unique_values\": 2,\n        \"samples\": [\n          1.0,\n          0.0\n        ],\n        \"semantic_type\": \"\",\n        \"description\": \"\"\n      }\n    },\n    {\n      \"column\": \"Geography_Germany\",\n      \"properties\": {\n        \"dtype\": \"number\",\n        \"std\": 0.40889592197277497,\n        \"min\": 0.0,\n        \"max\": 1.0,\n        \"num_unique_values\": 2,\n        \"samples\": [\n          1.0,\n          0.0\n        ],\n        \"semantic_type\": \"\",\n        \"description\": \"\"\n      }\n    },\n    {\n      \"column\": \"Geography_Spain\",\n      \"properties\": {\n        \"dtype\": \"number\",\n        \"std\": 0.413259245974252,\n        \"min\": 0.0,\n        \"max\": 1.0,\n        \"num_unique_values\": 2,\n        \"samples\": [\n          0.0,\n          1.0\n        ],\n        \"semantic_type\": \"\",\n        \"description\": \"\"\n      }\n    }\n  ]\n}",
              "type": "dataframe",
              "variable_name": "x_train"
            },
            "text/html": [
              "\n",
              "  <div id=\"df-89271b10-02e7-42d5-8cac-288c3b05945a\" class=\"colab-df-container\">\n",
              "    <div>\n",
              "<style scoped>\n",
              "    .dataframe tbody tr th:only-of-type {\n",
              "        vertical-align: middle;\n",
              "    }\n",
              "\n",
              "    .dataframe tbody tr th {\n",
              "        vertical-align: top;\n",
              "    }\n",
              "\n",
              "    .dataframe thead th {\n",
              "        text-align: right;\n",
              "    }\n",
              "</style>\n",
              "<table border=\"1\" class=\"dataframe\">\n",
              "  <thead>\n",
              "    <tr style=\"text-align: right;\">\n",
              "      <th></th>\n",
              "      <th>index</th>\n",
              "      <th>CreditScore</th>\n",
              "      <th>Geography</th>\n",
              "      <th>Gender</th>\n",
              "      <th>Age</th>\n",
              "      <th>Tenure</th>\n",
              "      <th>Balance</th>\n",
              "      <th>NumOfProducts</th>\n",
              "      <th>HasCrCard</th>\n",
              "      <th>IsActiveMember</th>\n",
              "      <th>EstimatedSalary</th>\n",
              "      <th>Geography_France</th>\n",
              "      <th>Geography_Germany</th>\n",
              "      <th>Geography_Spain</th>\n",
              "    </tr>\n",
              "  </thead>\n",
              "  <tbody>\n",
              "    <tr>\n",
              "      <th>0</th>\n",
              "      <td>15731</td>\n",
              "      <td>0.584071</td>\n",
              "      <td>Spain</td>\n",
              "      <td>Female</td>\n",
              "      <td>-0.6</td>\n",
              "      <td>0.2</td>\n",
              "      <td>0.0</td>\n",
              "      <td>0.0</td>\n",
              "      <td>0</td>\n",
              "      <td>0</td>\n",
              "      <td>0.359127</td>\n",
              "      <td>0.0</td>\n",
              "      <td>0.0</td>\n",
              "      <td>1.0</td>\n",
              "    </tr>\n",
              "  </tbody>\n",
              "</table>\n",
              "</div>\n",
              "    <div class=\"colab-df-buttons\">\n",
              "\n",
              "  <div class=\"colab-df-container\">\n",
              "    <button class=\"colab-df-convert\" onclick=\"convertToInteractive('df-89271b10-02e7-42d5-8cac-288c3b05945a')\"\n",
              "            title=\"Convert this dataframe to an interactive table.\"\n",
              "            style=\"display:none;\">\n",
              "\n",
              "  <svg xmlns=\"http://www.w3.org/2000/svg\" height=\"24px\" viewBox=\"0 -960 960 960\">\n",
              "    <path d=\"M120-120v-720h720v720H120Zm60-500h600v-160H180v160Zm220 220h160v-160H400v160Zm0 220h160v-160H400v160ZM180-400h160v-160H180v160Zm440 0h160v-160H620v160ZM180-180h160v-160H180v160Zm440 0h160v-160H620v160Z\"/>\n",
              "  </svg>\n",
              "    </button>\n",
              "\n",
              "  <style>\n",
              "    .colab-df-container {\n",
              "      display:flex;\n",
              "      gap: 12px;\n",
              "    }\n",
              "\n",
              "    .colab-df-convert {\n",
              "      background-color: #E8F0FE;\n",
              "      border: none;\n",
              "      border-radius: 50%;\n",
              "      cursor: pointer;\n",
              "      display: none;\n",
              "      fill: #1967D2;\n",
              "      height: 32px;\n",
              "      padding: 0 0 0 0;\n",
              "      width: 32px;\n",
              "    }\n",
              "\n",
              "    .colab-df-convert:hover {\n",
              "      background-color: #E2EBFA;\n",
              "      box-shadow: 0px 1px 2px rgba(60, 64, 67, 0.3), 0px 1px 3px 1px rgba(60, 64, 67, 0.15);\n",
              "      fill: #174EA6;\n",
              "    }\n",
              "\n",
              "    .colab-df-buttons div {\n",
              "      margin-bottom: 4px;\n",
              "    }\n",
              "\n",
              "    [theme=dark] .colab-df-convert {\n",
              "      background-color: #3B4455;\n",
              "      fill: #D2E3FC;\n",
              "    }\n",
              "\n",
              "    [theme=dark] .colab-df-convert:hover {\n",
              "      background-color: #434B5C;\n",
              "      box-shadow: 0px 1px 3px 1px rgba(0, 0, 0, 0.15);\n",
              "      filter: drop-shadow(0px 1px 2px rgba(0, 0, 0, 0.3));\n",
              "      fill: #FFFFFF;\n",
              "    }\n",
              "  </style>\n",
              "\n",
              "    <script>\n",
              "      const buttonEl =\n",
              "        document.querySelector('#df-89271b10-02e7-42d5-8cac-288c3b05945a button.colab-df-convert');\n",
              "      buttonEl.style.display =\n",
              "        google.colab.kernel.accessAllowed ? 'block' : 'none';\n",
              "\n",
              "      async function convertToInteractive(key) {\n",
              "        const element = document.querySelector('#df-89271b10-02e7-42d5-8cac-288c3b05945a');\n",
              "        const dataTable =\n",
              "          await google.colab.kernel.invokeFunction('convertToInteractive',\n",
              "                                                    [key], {});\n",
              "        if (!dataTable) return;\n",
              "\n",
              "        const docLinkHtml = 'Like what you see? Visit the ' +\n",
              "          '<a target=\"_blank\" href=https://colab.research.google.com/notebooks/data_table.ipynb>data table notebook</a>'\n",
              "          + ' to learn more about interactive tables.';\n",
              "        element.innerHTML = '';\n",
              "        dataTable['output_type'] = 'display_data';\n",
              "        await google.colab.output.renderOutput(dataTable, element);\n",
              "        const docLink = document.createElement('div');\n",
              "        docLink.innerHTML = docLinkHtml;\n",
              "        element.appendChild(docLink);\n",
              "      }\n",
              "    </script>\n",
              "  </div>\n",
              "\n",
              "    </div>\n",
              "  </div>\n"
            ],
            "text/plain": [
              "   index  CreditScore Geography  Gender  Age  Tenure  Balance  NumOfProducts  \\\n",
              "0  15731     0.584071     Spain  Female -0.6     0.2      0.0            0.0   \n",
              "\n",
              "   HasCrCard  IsActiveMember  EstimatedSalary  Geography_France  \\\n",
              "0          0               0         0.359127               0.0   \n",
              "\n",
              "   Geography_Germany  Geography_Spain  \n",
              "0                0.0              1.0  "
            ]
          },
          "execution_count": 29,
          "metadata": {},
          "output_type": "execute_result"
        }
      ],
      "source": [
        "x_train.head(1)"
      ]
    },
    {
      "cell_type": "code",
      "execution_count": 30,
      "id": "2RN_A9n3ZKP0",
      "metadata": {
        "id": "2RN_A9n3ZKP0"
      },
      "outputs": [],
      "source": [
        "x = x_test[['Geography']]\n",
        "test_data = pd.DataFrame(train_geo_encoded.transform(x).toarray(),columns=train_geo_encoded.get_feature_names_out())\n",
        "x_test = x_test.reset_index()\n",
        "x_test = pd.concat([x_test,test_data], axis=1)"
      ]
    },
    {
      "cell_type": "code",
      "execution_count": 31,
      "id": "d_ZT4YgpZQ79",
      "metadata": {
        "colab": {
          "base_uri": "https://localhost:8080/",
          "height": 101
        },
        "id": "d_ZT4YgpZQ79",
        "outputId": "1b175241-360c-463b-cc7e-d1dda309289a"
      },
      "outputs": [
        {
          "data": {
            "application/vnd.google.colaboratory.intrinsic+json": {
              "summary": "{\n  \"name\": \"x_test\",\n  \"rows\": 8252,\n  \"fields\": [\n    {\n      \"column\": \"index\",\n      \"properties\": {\n        \"dtype\": \"number\",\n        \"std\": 11971,\n        \"min\": 1,\n        \"max\": 41252,\n        \"num_unique_values\": 8252,\n        \"samples\": [\n          16307,\n          6835,\n          2304\n        ],\n        \"semantic_type\": \"\",\n        \"description\": \"\"\n      }\n    },\n    {\n      \"column\": \"CreditScore\",\n      \"properties\": {\n        \"dtype\": \"number\",\n        \"std\": 0.704131204149243,\n        \"min\": -2.584070796460177,\n        \"max\": 1.6902654867256637,\n        \"num_unique_values\": 411,\n        \"samples\": [\n          -0.5398230088495575,\n          1.0265486725663717,\n          -0.3274336283185841\n        ],\n        \"semantic_type\": \"\",\n        \"description\": \"\"\n      }\n    },\n    {\n      \"column\": \"Geography\",\n      \"properties\": {\n        \"dtype\": \"category\",\n        \"num_unique_values\": 3,\n        \"samples\": [\n          \"France\",\n          \"Spain\",\n          \"Germany\"\n        ],\n        \"semantic_type\": \"\",\n        \"description\": \"\"\n      }\n    },\n    {\n      \"column\": \"Gender\",\n      \"properties\": {\n        \"dtype\": \"category\",\n        \"num_unique_values\": 2,\n        \"samples\": [\n          \"Female\",\n          \"Male\"\n        ],\n        \"semantic_type\": \"\",\n        \"description\": \"\"\n      }\n    },\n    {\n      \"column\": \"Age\",\n      \"properties\": {\n        \"dtype\": \"number\",\n        \"std\": 0.8903623511633979,\n        \"min\": -1.9,\n        \"max\": 5.5,\n        \"num_unique_values\": 64,\n        \"samples\": [\n          4.3,\n          4.4\n        ],\n        \"semantic_type\": \"\",\n        \"description\": \"\"\n      }\n    },\n    {\n      \"column\": \"Tenure\",\n      \"properties\": {\n        \"dtype\": \"number\",\n        \"std\": 0.2814182341596625,\n        \"min\": 0.0,\n        \"max\": 1.0,\n        \"num_unique_values\": 11,\n        \"samples\": [\n          0.8,\n          0.6000000000000001\n        ],\n        \"semantic_type\": \"\",\n        \"description\": \"\"\n      }\n    },\n    {\n      \"column\": \"Balance\",\n      \"properties\": {\n        \"dtype\": \"number\",\n        \"std\": 0.26169080927156063,\n        \"min\": 0.0,\n        \"max\": 0.890625458811693,\n        \"num_unique_values\": 3143,\n        \"samples\": [\n          0.42090266790767106,\n          0.48362720772845696\n        ],\n        \"semantic_type\": \"\",\n        \"description\": \"\"\n      }\n    },\n    {\n      \"column\": \"NumOfProducts\",\n      \"properties\": {\n        \"dtype\": \"number\",\n        \"std\": 0.553188025229254,\n        \"min\": -1.0,\n        \"max\": 2.0,\n        \"num_unique_values\": 4,\n        \"samples\": [\n          0.0,\n          2.0\n        ],\n        \"semantic_type\": \"\",\n        \"description\": \"\"\n      }\n    },\n    {\n      \"column\": \"HasCrCard\",\n      \"properties\": {\n        \"dtype\": \"number\",\n        \"std\": 0,\n        \"min\": 0,\n        \"max\": 1,\n        \"num_unique_values\": 2,\n        \"samples\": [\n          1,\n          0\n        ],\n        \"semantic_type\": \"\",\n        \"description\": \"\"\n      }\n    },\n    {\n      \"column\": \"IsActiveMember\",\n      \"properties\": {\n        \"dtype\": \"number\",\n        \"std\": 0,\n        \"min\": 0,\n        \"max\": 1,\n        \"num_unique_values\": 2,\n        \"samples\": [\n          0,\n          1\n        ],\n        \"semantic_type\": \"\",\n        \"description\": \"\"\n      }\n    },\n    {\n      \"column\": \"EstimatedSalary\",\n      \"properties\": {\n        \"dtype\": \"number\",\n        \"std\": 0.24973966026566452,\n        \"min\": 0.0,\n        \"max\": 0.9998042313040894,\n        \"num_unique_values\": 6376,\n        \"samples\": [\n          0.5356222019202833,\n          0.5784983465920995\n        ],\n        \"semantic_type\": \"\",\n        \"description\": \"\"\n      }\n    },\n    {\n      \"column\": \"Geography_France\",\n      \"properties\": {\n        \"dtype\": \"number\",\n        \"std\": 0.49548594807275687,\n        \"min\": 0.0,\n        \"max\": 1.0,\n        \"num_unique_values\": 2,\n        \"samples\": [\n          0.0,\n          1.0\n        ],\n        \"semantic_type\": \"\",\n        \"description\": \"\"\n      }\n    },\n    {\n      \"column\": \"Geography_Germany\",\n      \"properties\": {\n        \"dtype\": \"number\",\n        \"std\": 0.4068211504189551,\n        \"min\": 0.0,\n        \"max\": 1.0,\n        \"num_unique_values\": 2,\n        \"samples\": [\n          1.0,\n          0.0\n        ],\n        \"semantic_type\": \"\",\n        \"description\": \"\"\n      }\n    },\n    {\n      \"column\": \"Geography_Spain\",\n      \"properties\": {\n        \"dtype\": \"number\",\n        \"std\": 0.41658996732626485,\n        \"min\": 0.0,\n        \"max\": 1.0,\n        \"num_unique_values\": 2,\n        \"samples\": [\n          1.0,\n          0.0\n        ],\n        \"semantic_type\": \"\",\n        \"description\": \"\"\n      }\n    }\n  ]\n}",
              "type": "dataframe",
              "variable_name": "x_test"
            },
            "text/html": [
              "\n",
              "  <div id=\"df-40091db6-ea1d-4953-86fd-9efec6847e04\" class=\"colab-df-container\">\n",
              "    <div>\n",
              "<style scoped>\n",
              "    .dataframe tbody tr th:only-of-type {\n",
              "        vertical-align: middle;\n",
              "    }\n",
              "\n",
              "    .dataframe tbody tr th {\n",
              "        vertical-align: top;\n",
              "    }\n",
              "\n",
              "    .dataframe thead th {\n",
              "        text-align: right;\n",
              "    }\n",
              "</style>\n",
              "<table border=\"1\" class=\"dataframe\">\n",
              "  <thead>\n",
              "    <tr style=\"text-align: right;\">\n",
              "      <th></th>\n",
              "      <th>index</th>\n",
              "      <th>CreditScore</th>\n",
              "      <th>Geography</th>\n",
              "      <th>Gender</th>\n",
              "      <th>Age</th>\n",
              "      <th>Tenure</th>\n",
              "      <th>Balance</th>\n",
              "      <th>NumOfProducts</th>\n",
              "      <th>HasCrCard</th>\n",
              "      <th>IsActiveMember</th>\n",
              "      <th>EstimatedSalary</th>\n",
              "      <th>Geography_France</th>\n",
              "      <th>Geography_Germany</th>\n",
              "      <th>Geography_Spain</th>\n",
              "    </tr>\n",
              "  </thead>\n",
              "  <tbody>\n",
              "    <tr>\n",
              "      <th>0</th>\n",
              "      <td>22930</td>\n",
              "      <td>1.132743</td>\n",
              "      <td>France</td>\n",
              "      <td>Male</td>\n",
              "      <td>-0.1</td>\n",
              "      <td>0.6</td>\n",
              "      <td>0.716648</td>\n",
              "      <td>-1.0</td>\n",
              "      <td>0</td>\n",
              "      <td>1</td>\n",
              "      <td>0.506849</td>\n",
              "      <td>1.0</td>\n",
              "      <td>0.0</td>\n",
              "      <td>0.0</td>\n",
              "    </tr>\n",
              "  </tbody>\n",
              "</table>\n",
              "</div>\n",
              "    <div class=\"colab-df-buttons\">\n",
              "\n",
              "  <div class=\"colab-df-container\">\n",
              "    <button class=\"colab-df-convert\" onclick=\"convertToInteractive('df-40091db6-ea1d-4953-86fd-9efec6847e04')\"\n",
              "            title=\"Convert this dataframe to an interactive table.\"\n",
              "            style=\"display:none;\">\n",
              "\n",
              "  <svg xmlns=\"http://www.w3.org/2000/svg\" height=\"24px\" viewBox=\"0 -960 960 960\">\n",
              "    <path d=\"M120-120v-720h720v720H120Zm60-500h600v-160H180v160Zm220 220h160v-160H400v160Zm0 220h160v-160H400v160ZM180-400h160v-160H180v160Zm440 0h160v-160H620v160ZM180-180h160v-160H180v160Zm440 0h160v-160H620v160Z\"/>\n",
              "  </svg>\n",
              "    </button>\n",
              "\n",
              "  <style>\n",
              "    .colab-df-container {\n",
              "      display:flex;\n",
              "      gap: 12px;\n",
              "    }\n",
              "\n",
              "    .colab-df-convert {\n",
              "      background-color: #E8F0FE;\n",
              "      border: none;\n",
              "      border-radius: 50%;\n",
              "      cursor: pointer;\n",
              "      display: none;\n",
              "      fill: #1967D2;\n",
              "      height: 32px;\n",
              "      padding: 0 0 0 0;\n",
              "      width: 32px;\n",
              "    }\n",
              "\n",
              "    .colab-df-convert:hover {\n",
              "      background-color: #E2EBFA;\n",
              "      box-shadow: 0px 1px 2px rgba(60, 64, 67, 0.3), 0px 1px 3px 1px rgba(60, 64, 67, 0.15);\n",
              "      fill: #174EA6;\n",
              "    }\n",
              "\n",
              "    .colab-df-buttons div {\n",
              "      margin-bottom: 4px;\n",
              "    }\n",
              "\n",
              "    [theme=dark] .colab-df-convert {\n",
              "      background-color: #3B4455;\n",
              "      fill: #D2E3FC;\n",
              "    }\n",
              "\n",
              "    [theme=dark] .colab-df-convert:hover {\n",
              "      background-color: #434B5C;\n",
              "      box-shadow: 0px 1px 3px 1px rgba(0, 0, 0, 0.15);\n",
              "      filter: drop-shadow(0px 1px 2px rgba(0, 0, 0, 0.3));\n",
              "      fill: #FFFFFF;\n",
              "    }\n",
              "  </style>\n",
              "\n",
              "    <script>\n",
              "      const buttonEl =\n",
              "        document.querySelector('#df-40091db6-ea1d-4953-86fd-9efec6847e04 button.colab-df-convert');\n",
              "      buttonEl.style.display =\n",
              "        google.colab.kernel.accessAllowed ? 'block' : 'none';\n",
              "\n",
              "      async function convertToInteractive(key) {\n",
              "        const element = document.querySelector('#df-40091db6-ea1d-4953-86fd-9efec6847e04');\n",
              "        const dataTable =\n",
              "          await google.colab.kernel.invokeFunction('convertToInteractive',\n",
              "                                                    [key], {});\n",
              "        if (!dataTable) return;\n",
              "\n",
              "        const docLinkHtml = 'Like what you see? Visit the ' +\n",
              "          '<a target=\"_blank\" href=https://colab.research.google.com/notebooks/data_table.ipynb>data table notebook</a>'\n",
              "          + ' to learn more about interactive tables.';\n",
              "        element.innerHTML = '';\n",
              "        dataTable['output_type'] = 'display_data';\n",
              "        await google.colab.output.renderOutput(dataTable, element);\n",
              "        const docLink = document.createElement('div');\n",
              "        docLink.innerHTML = docLinkHtml;\n",
              "        element.appendChild(docLink);\n",
              "      }\n",
              "    </script>\n",
              "  </div>\n",
              "\n",
              "    </div>\n",
              "  </div>\n"
            ],
            "text/plain": [
              "   index  CreditScore Geography Gender  Age  Tenure   Balance  NumOfProducts  \\\n",
              "0  22930     1.132743    France   Male -0.1     0.6  0.716648           -1.0   \n",
              "\n",
              "   HasCrCard  IsActiveMember  EstimatedSalary  Geography_France  \\\n",
              "0          0               1         0.506849               1.0   \n",
              "\n",
              "   Geography_Germany  Geography_Spain  \n",
              "0                0.0              0.0  "
            ]
          },
          "execution_count": 31,
          "metadata": {},
          "output_type": "execute_result"
        }
      ],
      "source": [
        "x_test.head(1)"
      ]
    },
    {
      "cell_type": "markdown",
      "id": "UrtXZg6XZYpO",
      "metadata": {
        "id": "UrtXZg6XZYpO"
      },
      "source": [
        "We will drop the original `Geography` column because we already did the encoding"
      ]
    },
    {
      "cell_type": "code",
      "execution_count": 32,
      "id": "BHNQdeGgZVgj",
      "metadata": {
        "id": "BHNQdeGgZVgj"
      },
      "outputs": [],
      "source": [
        "x_train = x_train.drop(['Geography'], axis =1)\n",
        "x_test = x_test.drop(['Geography'], axis =1)"
      ]
    },
    {
      "cell_type": "code",
      "execution_count": 33,
      "id": "10RU273SZg3D",
      "metadata": {
        "colab": {
          "base_uri": "https://localhost:8080/",
          "height": 81
        },
        "id": "10RU273SZg3D",
        "outputId": "0e513082-033e-404d-96a4-a81e6a6251ac"
      },
      "outputs": [
        {
          "data": {
            "application/vnd.google.colaboratory.intrinsic+json": {
              "summary": "{\n  \"name\": \"x_train\",\n  \"rows\": 33006,\n  \"fields\": [\n    {\n      \"column\": \"index\",\n      \"properties\": {\n        \"dtype\": \"number\",\n        \"std\": 11894,\n        \"min\": 0,\n        \"max\": 41257,\n        \"num_unique_values\": 33006,\n        \"samples\": [\n          9601,\n          1630,\n          7562\n        ],\n        \"semantic_type\": \"\",\n        \"description\": \"\"\n      }\n    },\n    {\n      \"column\": \"CreditScore\",\n      \"properties\": {\n        \"dtype\": \"number\",\n        \"std\": 0.7058879748654439,\n        \"min\": -2.734513274336283,\n        \"max\": 1.6902654867256637,\n        \"num_unique_values\": 442,\n        \"samples\": [\n          0.4778761061946903,\n          -0.017699115044247787,\n          0.017699115044247787\n        ],\n        \"semantic_type\": \"\",\n        \"description\": \"\"\n      }\n    },\n    {\n      \"column\": \"Gender\",\n      \"properties\": {\n        \"dtype\": \"category\",\n        \"num_unique_values\": 2,\n        \"samples\": [\n          \"Male\",\n          \"Female\"\n        ],\n        \"semantic_type\": \"\",\n        \"description\": \"\"\n      }\n    },\n    {\n      \"column\": \"Age\",\n      \"properties\": {\n        \"dtype\": \"number\",\n        \"std\": 0.8958740285168068,\n        \"min\": -1.9,\n        \"max\": 5.5,\n        \"num_unique_values\": 70,\n        \"samples\": [\n          1.6,\n          -0.6\n        ],\n        \"semantic_type\": \"\",\n        \"description\": \"\"\n      }\n    },\n    {\n      \"column\": \"Tenure\",\n      \"properties\": {\n        \"dtype\": \"number\",\n        \"std\": 0.28187840688026444,\n        \"min\": 0.0,\n        \"max\": 1.0,\n        \"num_unique_values\": 11,\n        \"samples\": [\n          0.0,\n          0.2\n        ],\n        \"semantic_type\": \"\",\n        \"description\": \"\"\n      }\n    },\n    {\n      \"column\": \"Balance\",\n      \"properties\": {\n        \"dtype\": \"number\",\n        \"std\": 0.26382782735117133,\n        \"min\": 0.0,\n        \"max\": 1.0,\n        \"num_unique_values\": 9797,\n        \"samples\": [\n          0.38292618960486025,\n          0.4026845192760897\n        ],\n        \"semantic_type\": \"\",\n        \"description\": \"\"\n      }\n    },\n    {\n      \"column\": \"NumOfProducts\",\n      \"properties\": {\n        \"dtype\": \"number\",\n        \"std\": 0.5467343409019486,\n        \"min\": -1.0,\n        \"max\": 2.0,\n        \"num_unique_values\": 4,\n        \"samples\": [\n          -1.0,\n          2.0\n        ],\n        \"semantic_type\": \"\",\n        \"description\": \"\"\n      }\n    },\n    {\n      \"column\": \"HasCrCard\",\n      \"properties\": {\n        \"dtype\": \"number\",\n        \"std\": 0,\n        \"min\": 0,\n        \"max\": 1,\n        \"num_unique_values\": 2,\n        \"samples\": [\n          1,\n          0\n        ],\n        \"semantic_type\": \"\",\n        \"description\": \"\"\n      }\n    },\n    {\n      \"column\": \"IsActiveMember\",\n      \"properties\": {\n        \"dtype\": \"number\",\n        \"std\": 0,\n        \"min\": 0,\n        \"max\": 1,\n        \"num_unique_values\": 2,\n        \"samples\": [\n          1,\n          0\n        ],\n        \"semantic_type\": \"\",\n        \"description\": \"\"\n      }\n    },\n    {\n      \"column\": \"EstimatedSalary\",\n      \"properties\": {\n        \"dtype\": \"number\",\n        \"std\": 0.25039662461026196,\n        \"min\": 0.0,\n        \"max\": 1.0,\n        \"num_unique_values\": 17876,\n        \"samples\": [\n          0.7051244893887366,\n          0.41353059217155236\n        ],\n        \"semantic_type\": \"\",\n        \"description\": \"\"\n      }\n    },\n    {\n      \"column\": \"Geography_France\",\n      \"properties\": {\n        \"dtype\": \"number\",\n        \"std\": 0.4951915377563421,\n        \"min\": 0.0,\n        \"max\": 1.0,\n        \"num_unique_values\": 2,\n        \"samples\": [\n          1.0,\n          0.0\n        ],\n        \"semantic_type\": \"\",\n        \"description\": \"\"\n      }\n    },\n    {\n      \"column\": \"Geography_Germany\",\n      \"properties\": {\n        \"dtype\": \"number\",\n        \"std\": 0.40889592197277497,\n        \"min\": 0.0,\n        \"max\": 1.0,\n        \"num_unique_values\": 2,\n        \"samples\": [\n          1.0,\n          0.0\n        ],\n        \"semantic_type\": \"\",\n        \"description\": \"\"\n      }\n    },\n    {\n      \"column\": \"Geography_Spain\",\n      \"properties\": {\n        \"dtype\": \"number\",\n        \"std\": 0.413259245974252,\n        \"min\": 0.0,\n        \"max\": 1.0,\n        \"num_unique_values\": 2,\n        \"samples\": [\n          0.0,\n          1.0\n        ],\n        \"semantic_type\": \"\",\n        \"description\": \"\"\n      }\n    }\n  ]\n}",
              "type": "dataframe",
              "variable_name": "x_train"
            },
            "text/html": [
              "\n",
              "  <div id=\"df-3f7c47b8-3cff-4d29-bb88-06d11127b5b7\" class=\"colab-df-container\">\n",
              "    <div>\n",
              "<style scoped>\n",
              "    .dataframe tbody tr th:only-of-type {\n",
              "        vertical-align: middle;\n",
              "    }\n",
              "\n",
              "    .dataframe tbody tr th {\n",
              "        vertical-align: top;\n",
              "    }\n",
              "\n",
              "    .dataframe thead th {\n",
              "        text-align: right;\n",
              "    }\n",
              "</style>\n",
              "<table border=\"1\" class=\"dataframe\">\n",
              "  <thead>\n",
              "    <tr style=\"text-align: right;\">\n",
              "      <th></th>\n",
              "      <th>index</th>\n",
              "      <th>CreditScore</th>\n",
              "      <th>Gender</th>\n",
              "      <th>Age</th>\n",
              "      <th>Tenure</th>\n",
              "      <th>Balance</th>\n",
              "      <th>NumOfProducts</th>\n",
              "      <th>HasCrCard</th>\n",
              "      <th>IsActiveMember</th>\n",
              "      <th>EstimatedSalary</th>\n",
              "      <th>Geography_France</th>\n",
              "      <th>Geography_Germany</th>\n",
              "      <th>Geography_Spain</th>\n",
              "    </tr>\n",
              "  </thead>\n",
              "  <tbody>\n",
              "    <tr>\n",
              "      <th>0</th>\n",
              "      <td>15731</td>\n",
              "      <td>0.584071</td>\n",
              "      <td>Female</td>\n",
              "      <td>-0.6</td>\n",
              "      <td>0.2</td>\n",
              "      <td>0.0</td>\n",
              "      <td>0.0</td>\n",
              "      <td>0</td>\n",
              "      <td>0</td>\n",
              "      <td>0.359127</td>\n",
              "      <td>0.0</td>\n",
              "      <td>0.0</td>\n",
              "      <td>1.0</td>\n",
              "    </tr>\n",
              "  </tbody>\n",
              "</table>\n",
              "</div>\n",
              "    <div class=\"colab-df-buttons\">\n",
              "\n",
              "  <div class=\"colab-df-container\">\n",
              "    <button class=\"colab-df-convert\" onclick=\"convertToInteractive('df-3f7c47b8-3cff-4d29-bb88-06d11127b5b7')\"\n",
              "            title=\"Convert this dataframe to an interactive table.\"\n",
              "            style=\"display:none;\">\n",
              "\n",
              "  <svg xmlns=\"http://www.w3.org/2000/svg\" height=\"24px\" viewBox=\"0 -960 960 960\">\n",
              "    <path d=\"M120-120v-720h720v720H120Zm60-500h600v-160H180v160Zm220 220h160v-160H400v160Zm0 220h160v-160H400v160ZM180-400h160v-160H180v160Zm440 0h160v-160H620v160ZM180-180h160v-160H180v160Zm440 0h160v-160H620v160Z\"/>\n",
              "  </svg>\n",
              "    </button>\n",
              "\n",
              "  <style>\n",
              "    .colab-df-container {\n",
              "      display:flex;\n",
              "      gap: 12px;\n",
              "    }\n",
              "\n",
              "    .colab-df-convert {\n",
              "      background-color: #E8F0FE;\n",
              "      border: none;\n",
              "      border-radius: 50%;\n",
              "      cursor: pointer;\n",
              "      display: none;\n",
              "      fill: #1967D2;\n",
              "      height: 32px;\n",
              "      padding: 0 0 0 0;\n",
              "      width: 32px;\n",
              "    }\n",
              "\n",
              "    .colab-df-convert:hover {\n",
              "      background-color: #E2EBFA;\n",
              "      box-shadow: 0px 1px 2px rgba(60, 64, 67, 0.3), 0px 1px 3px 1px rgba(60, 64, 67, 0.15);\n",
              "      fill: #174EA6;\n",
              "    }\n",
              "\n",
              "    .colab-df-buttons div {\n",
              "      margin-bottom: 4px;\n",
              "    }\n",
              "\n",
              "    [theme=dark] .colab-df-convert {\n",
              "      background-color: #3B4455;\n",
              "      fill: #D2E3FC;\n",
              "    }\n",
              "\n",
              "    [theme=dark] .colab-df-convert:hover {\n",
              "      background-color: #434B5C;\n",
              "      box-shadow: 0px 1px 3px 1px rgba(0, 0, 0, 0.15);\n",
              "      filter: drop-shadow(0px 1px 2px rgba(0, 0, 0, 0.3));\n",
              "      fill: #FFFFFF;\n",
              "    }\n",
              "  </style>\n",
              "\n",
              "    <script>\n",
              "      const buttonEl =\n",
              "        document.querySelector('#df-3f7c47b8-3cff-4d29-bb88-06d11127b5b7 button.colab-df-convert');\n",
              "      buttonEl.style.display =\n",
              "        google.colab.kernel.accessAllowed ? 'block' : 'none';\n",
              "\n",
              "      async function convertToInteractive(key) {\n",
              "        const element = document.querySelector('#df-3f7c47b8-3cff-4d29-bb88-06d11127b5b7');\n",
              "        const dataTable =\n",
              "          await google.colab.kernel.invokeFunction('convertToInteractive',\n",
              "                                                    [key], {});\n",
              "        if (!dataTable) return;\n",
              "\n",
              "        const docLinkHtml = 'Like what you see? Visit the ' +\n",
              "          '<a target=\"_blank\" href=https://colab.research.google.com/notebooks/data_table.ipynb>data table notebook</a>'\n",
              "          + ' to learn more about interactive tables.';\n",
              "        element.innerHTML = '';\n",
              "        dataTable['output_type'] = 'display_data';\n",
              "        await google.colab.output.renderOutput(dataTable, element);\n",
              "        const docLink = document.createElement('div');\n",
              "        docLink.innerHTML = docLinkHtml;\n",
              "        element.appendChild(docLink);\n",
              "      }\n",
              "    </script>\n",
              "  </div>\n",
              "\n",
              "    </div>\n",
              "  </div>\n"
            ],
            "text/plain": [
              "   index  CreditScore  Gender  Age  Tenure  Balance  NumOfProducts  HasCrCard  \\\n",
              "0  15731     0.584071  Female -0.6     0.2      0.0            0.0          0   \n",
              "\n",
              "   IsActiveMember  EstimatedSalary  Geography_France  Geography_Germany  \\\n",
              "0               0         0.359127               0.0                0.0   \n",
              "\n",
              "   Geography_Spain  \n",
              "0              1.0  "
            ]
          },
          "execution_count": 33,
          "metadata": {},
          "output_type": "execute_result"
        }
      ],
      "source": [
        "x_train.head(1)"
      ]
    },
    {
      "cell_type": "markdown",
      "id": "XBwZuBbSZC6b",
      "metadata": {
        "id": "XBwZuBbSZC6b"
      },
      "source": [
        "##### Binary Encoding"
      ]
    },
    {
      "cell_type": "code",
      "execution_count": 34,
      "id": "SM-nZkbtuJ_O",
      "metadata": {
        "id": "SM-nZkbtuJ_O"
      },
      "outputs": [],
      "source": [
        "data_encode = {\"Gender\": {\"Male\": 1,\"Female\": 0}}\n",
        "x_train = x_train.replace(data_encode)\n",
        "x_test = x_test.replace(data_encode)"
      ]
    },
    {
      "cell_type": "code",
      "execution_count": 35,
      "id": "HetOKuD3vMyQ",
      "metadata": {
        "colab": {
          "base_uri": "https://localhost:8080/",
          "height": 81
        },
        "id": "HetOKuD3vMyQ",
        "outputId": "6b5c1aa3-9aed-477e-980e-8add098c52e3"
      },
      "outputs": [
        {
          "data": {
            "application/vnd.google.colaboratory.intrinsic+json": {
              "summary": "{\n  \"name\": \"x_train\",\n  \"rows\": 33006,\n  \"fields\": [\n    {\n      \"column\": \"index\",\n      \"properties\": {\n        \"dtype\": \"number\",\n        \"std\": 11894,\n        \"min\": 0,\n        \"max\": 41257,\n        \"num_unique_values\": 33006,\n        \"samples\": [\n          9601,\n          1630,\n          7562\n        ],\n        \"semantic_type\": \"\",\n        \"description\": \"\"\n      }\n    },\n    {\n      \"column\": \"CreditScore\",\n      \"properties\": {\n        \"dtype\": \"number\",\n        \"std\": 0.7058879748654439,\n        \"min\": -2.734513274336283,\n        \"max\": 1.6902654867256637,\n        \"num_unique_values\": 442,\n        \"samples\": [\n          0.4778761061946903,\n          -0.017699115044247787,\n          0.017699115044247787\n        ],\n        \"semantic_type\": \"\",\n        \"description\": \"\"\n      }\n    },\n    {\n      \"column\": \"Gender\",\n      \"properties\": {\n        \"dtype\": \"number\",\n        \"std\": 0,\n        \"min\": 0,\n        \"max\": 1,\n        \"num_unique_values\": 2,\n        \"samples\": [\n          1,\n          0\n        ],\n        \"semantic_type\": \"\",\n        \"description\": \"\"\n      }\n    },\n    {\n      \"column\": \"Age\",\n      \"properties\": {\n        \"dtype\": \"number\",\n        \"std\": 0.8958740285168068,\n        \"min\": -1.9,\n        \"max\": 5.5,\n        \"num_unique_values\": 70,\n        \"samples\": [\n          1.6,\n          -0.6\n        ],\n        \"semantic_type\": \"\",\n        \"description\": \"\"\n      }\n    },\n    {\n      \"column\": \"Tenure\",\n      \"properties\": {\n        \"dtype\": \"number\",\n        \"std\": 0.28187840688026444,\n        \"min\": 0.0,\n        \"max\": 1.0,\n        \"num_unique_values\": 11,\n        \"samples\": [\n          0.0,\n          0.2\n        ],\n        \"semantic_type\": \"\",\n        \"description\": \"\"\n      }\n    },\n    {\n      \"column\": \"Balance\",\n      \"properties\": {\n        \"dtype\": \"number\",\n        \"std\": 0.26382782735117133,\n        \"min\": 0.0,\n        \"max\": 1.0,\n        \"num_unique_values\": 9797,\n        \"samples\": [\n          0.38292618960486025,\n          0.4026845192760897\n        ],\n        \"semantic_type\": \"\",\n        \"description\": \"\"\n      }\n    },\n    {\n      \"column\": \"NumOfProducts\",\n      \"properties\": {\n        \"dtype\": \"number\",\n        \"std\": 0.5467343409019486,\n        \"min\": -1.0,\n        \"max\": 2.0,\n        \"num_unique_values\": 4,\n        \"samples\": [\n          -1.0,\n          2.0\n        ],\n        \"semantic_type\": \"\",\n        \"description\": \"\"\n      }\n    },\n    {\n      \"column\": \"HasCrCard\",\n      \"properties\": {\n        \"dtype\": \"number\",\n        \"std\": 0,\n        \"min\": 0,\n        \"max\": 1,\n        \"num_unique_values\": 2,\n        \"samples\": [\n          1,\n          0\n        ],\n        \"semantic_type\": \"\",\n        \"description\": \"\"\n      }\n    },\n    {\n      \"column\": \"IsActiveMember\",\n      \"properties\": {\n        \"dtype\": \"number\",\n        \"std\": 0,\n        \"min\": 0,\n        \"max\": 1,\n        \"num_unique_values\": 2,\n        \"samples\": [\n          1,\n          0\n        ],\n        \"semantic_type\": \"\",\n        \"description\": \"\"\n      }\n    },\n    {\n      \"column\": \"EstimatedSalary\",\n      \"properties\": {\n        \"dtype\": \"number\",\n        \"std\": 0.25039662461026196,\n        \"min\": 0.0,\n        \"max\": 1.0,\n        \"num_unique_values\": 17876,\n        \"samples\": [\n          0.7051244893887366,\n          0.41353059217155236\n        ],\n        \"semantic_type\": \"\",\n        \"description\": \"\"\n      }\n    },\n    {\n      \"column\": \"Geography_France\",\n      \"properties\": {\n        \"dtype\": \"number\",\n        \"std\": 0.4951915377563421,\n        \"min\": 0.0,\n        \"max\": 1.0,\n        \"num_unique_values\": 2,\n        \"samples\": [\n          1.0,\n          0.0\n        ],\n        \"semantic_type\": \"\",\n        \"description\": \"\"\n      }\n    },\n    {\n      \"column\": \"Geography_Germany\",\n      \"properties\": {\n        \"dtype\": \"number\",\n        \"std\": 0.40889592197277497,\n        \"min\": 0.0,\n        \"max\": 1.0,\n        \"num_unique_values\": 2,\n        \"samples\": [\n          1.0,\n          0.0\n        ],\n        \"semantic_type\": \"\",\n        \"description\": \"\"\n      }\n    },\n    {\n      \"column\": \"Geography_Spain\",\n      \"properties\": {\n        \"dtype\": \"number\",\n        \"std\": 0.413259245974252,\n        \"min\": 0.0,\n        \"max\": 1.0,\n        \"num_unique_values\": 2,\n        \"samples\": [\n          0.0,\n          1.0\n        ],\n        \"semantic_type\": \"\",\n        \"description\": \"\"\n      }\n    }\n  ]\n}",
              "type": "dataframe",
              "variable_name": "x_train"
            },
            "text/html": [
              "\n",
              "  <div id=\"df-a9739a06-f4c5-47cc-9e00-edabdb216f85\" class=\"colab-df-container\">\n",
              "    <div>\n",
              "<style scoped>\n",
              "    .dataframe tbody tr th:only-of-type {\n",
              "        vertical-align: middle;\n",
              "    }\n",
              "\n",
              "    .dataframe tbody tr th {\n",
              "        vertical-align: top;\n",
              "    }\n",
              "\n",
              "    .dataframe thead th {\n",
              "        text-align: right;\n",
              "    }\n",
              "</style>\n",
              "<table border=\"1\" class=\"dataframe\">\n",
              "  <thead>\n",
              "    <tr style=\"text-align: right;\">\n",
              "      <th></th>\n",
              "      <th>index</th>\n",
              "      <th>CreditScore</th>\n",
              "      <th>Gender</th>\n",
              "      <th>Age</th>\n",
              "      <th>Tenure</th>\n",
              "      <th>Balance</th>\n",
              "      <th>NumOfProducts</th>\n",
              "      <th>HasCrCard</th>\n",
              "      <th>IsActiveMember</th>\n",
              "      <th>EstimatedSalary</th>\n",
              "      <th>Geography_France</th>\n",
              "      <th>Geography_Germany</th>\n",
              "      <th>Geography_Spain</th>\n",
              "    </tr>\n",
              "  </thead>\n",
              "  <tbody>\n",
              "    <tr>\n",
              "      <th>0</th>\n",
              "      <td>15731</td>\n",
              "      <td>0.584071</td>\n",
              "      <td>0</td>\n",
              "      <td>-0.6</td>\n",
              "      <td>0.2</td>\n",
              "      <td>0.0</td>\n",
              "      <td>0.0</td>\n",
              "      <td>0</td>\n",
              "      <td>0</td>\n",
              "      <td>0.359127</td>\n",
              "      <td>0.0</td>\n",
              "      <td>0.0</td>\n",
              "      <td>1.0</td>\n",
              "    </tr>\n",
              "  </tbody>\n",
              "</table>\n",
              "</div>\n",
              "    <div class=\"colab-df-buttons\">\n",
              "\n",
              "  <div class=\"colab-df-container\">\n",
              "    <button class=\"colab-df-convert\" onclick=\"convertToInteractive('df-a9739a06-f4c5-47cc-9e00-edabdb216f85')\"\n",
              "            title=\"Convert this dataframe to an interactive table.\"\n",
              "            style=\"display:none;\">\n",
              "\n",
              "  <svg xmlns=\"http://www.w3.org/2000/svg\" height=\"24px\" viewBox=\"0 -960 960 960\">\n",
              "    <path d=\"M120-120v-720h720v720H120Zm60-500h600v-160H180v160Zm220 220h160v-160H400v160Zm0 220h160v-160H400v160ZM180-400h160v-160H180v160Zm440 0h160v-160H620v160ZM180-180h160v-160H180v160Zm440 0h160v-160H620v160Z\"/>\n",
              "  </svg>\n",
              "    </button>\n",
              "\n",
              "  <style>\n",
              "    .colab-df-container {\n",
              "      display:flex;\n",
              "      gap: 12px;\n",
              "    }\n",
              "\n",
              "    .colab-df-convert {\n",
              "      background-color: #E8F0FE;\n",
              "      border: none;\n",
              "      border-radius: 50%;\n",
              "      cursor: pointer;\n",
              "      display: none;\n",
              "      fill: #1967D2;\n",
              "      height: 32px;\n",
              "      padding: 0 0 0 0;\n",
              "      width: 32px;\n",
              "    }\n",
              "\n",
              "    .colab-df-convert:hover {\n",
              "      background-color: #E2EBFA;\n",
              "      box-shadow: 0px 1px 2px rgba(60, 64, 67, 0.3), 0px 1px 3px 1px rgba(60, 64, 67, 0.15);\n",
              "      fill: #174EA6;\n",
              "    }\n",
              "\n",
              "    .colab-df-buttons div {\n",
              "      margin-bottom: 4px;\n",
              "    }\n",
              "\n",
              "    [theme=dark] .colab-df-convert {\n",
              "      background-color: #3B4455;\n",
              "      fill: #D2E3FC;\n",
              "    }\n",
              "\n",
              "    [theme=dark] .colab-df-convert:hover {\n",
              "      background-color: #434B5C;\n",
              "      box-shadow: 0px 1px 3px 1px rgba(0, 0, 0, 0.15);\n",
              "      filter: drop-shadow(0px 1px 2px rgba(0, 0, 0, 0.3));\n",
              "      fill: #FFFFFF;\n",
              "    }\n",
              "  </style>\n",
              "\n",
              "    <script>\n",
              "      const buttonEl =\n",
              "        document.querySelector('#df-a9739a06-f4c5-47cc-9e00-edabdb216f85 button.colab-df-convert');\n",
              "      buttonEl.style.display =\n",
              "        google.colab.kernel.accessAllowed ? 'block' : 'none';\n",
              "\n",
              "      async function convertToInteractive(key) {\n",
              "        const element = document.querySelector('#df-a9739a06-f4c5-47cc-9e00-edabdb216f85');\n",
              "        const dataTable =\n",
              "          await google.colab.kernel.invokeFunction('convertToInteractive',\n",
              "                                                    [key], {});\n",
              "        if (!dataTable) return;\n",
              "\n",
              "        const docLinkHtml = 'Like what you see? Visit the ' +\n",
              "          '<a target=\"_blank\" href=https://colab.research.google.com/notebooks/data_table.ipynb>data table notebook</a>'\n",
              "          + ' to learn more about interactive tables.';\n",
              "        element.innerHTML = '';\n",
              "        dataTable['output_type'] = 'display_data';\n",
              "        await google.colab.output.renderOutput(dataTable, element);\n",
              "        const docLink = document.createElement('div');\n",
              "        docLink.innerHTML = docLinkHtml;\n",
              "        element.appendChild(docLink);\n",
              "      }\n",
              "    </script>\n",
              "  </div>\n",
              "\n",
              "    </div>\n",
              "  </div>\n"
            ],
            "text/plain": [
              "   index  CreditScore  Gender  Age  Tenure  Balance  NumOfProducts  HasCrCard  \\\n",
              "0  15731     0.584071       0 -0.6     0.2      0.0            0.0          0   \n",
              "\n",
              "   IsActiveMember  EstimatedSalary  Geography_France  Geography_Germany  \\\n",
              "0               0         0.359127               0.0                0.0   \n",
              "\n",
              "   Geography_Spain  \n",
              "0              1.0  "
            ]
          },
          "execution_count": 35,
          "metadata": {},
          "output_type": "execute_result"
        }
      ],
      "source": [
        "x_train.head(1)"
      ]
    },
    {
      "cell_type": "code",
      "execution_count": 36,
      "id": "Z_66E2_HvTpE",
      "metadata": {
        "colab": {
          "base_uri": "https://localhost:8080/",
          "height": 81
        },
        "id": "Z_66E2_HvTpE",
        "outputId": "595f827a-e680-4fec-9573-03d4d5590aa1"
      },
      "outputs": [
        {
          "data": {
            "application/vnd.google.colaboratory.intrinsic+json": {
              "summary": "{\n  \"name\": \"x_test\",\n  \"rows\": 8252,\n  \"fields\": [\n    {\n      \"column\": \"index\",\n      \"properties\": {\n        \"dtype\": \"number\",\n        \"std\": 11971,\n        \"min\": 1,\n        \"max\": 41252,\n        \"num_unique_values\": 8252,\n        \"samples\": [\n          16307,\n          6835,\n          2304\n        ],\n        \"semantic_type\": \"\",\n        \"description\": \"\"\n      }\n    },\n    {\n      \"column\": \"CreditScore\",\n      \"properties\": {\n        \"dtype\": \"number\",\n        \"std\": 0.704131204149243,\n        \"min\": -2.584070796460177,\n        \"max\": 1.6902654867256637,\n        \"num_unique_values\": 411,\n        \"samples\": [\n          -0.5398230088495575,\n          1.0265486725663717,\n          -0.3274336283185841\n        ],\n        \"semantic_type\": \"\",\n        \"description\": \"\"\n      }\n    },\n    {\n      \"column\": \"Gender\",\n      \"properties\": {\n        \"dtype\": \"number\",\n        \"std\": 0,\n        \"min\": 0,\n        \"max\": 1,\n        \"num_unique_values\": 2,\n        \"samples\": [\n          0,\n          1\n        ],\n        \"semantic_type\": \"\",\n        \"description\": \"\"\n      }\n    },\n    {\n      \"column\": \"Age\",\n      \"properties\": {\n        \"dtype\": \"number\",\n        \"std\": 0.8903623511633979,\n        \"min\": -1.9,\n        \"max\": 5.5,\n        \"num_unique_values\": 64,\n        \"samples\": [\n          4.3,\n          4.4\n        ],\n        \"semantic_type\": \"\",\n        \"description\": \"\"\n      }\n    },\n    {\n      \"column\": \"Tenure\",\n      \"properties\": {\n        \"dtype\": \"number\",\n        \"std\": 0.2814182341596625,\n        \"min\": 0.0,\n        \"max\": 1.0,\n        \"num_unique_values\": 11,\n        \"samples\": [\n          0.8,\n          0.6000000000000001\n        ],\n        \"semantic_type\": \"\",\n        \"description\": \"\"\n      }\n    },\n    {\n      \"column\": \"Balance\",\n      \"properties\": {\n        \"dtype\": \"number\",\n        \"std\": 0.26169080927156063,\n        \"min\": 0.0,\n        \"max\": 0.890625458811693,\n        \"num_unique_values\": 3143,\n        \"samples\": [\n          0.42090266790767106,\n          0.48362720772845696\n        ],\n        \"semantic_type\": \"\",\n        \"description\": \"\"\n      }\n    },\n    {\n      \"column\": \"NumOfProducts\",\n      \"properties\": {\n        \"dtype\": \"number\",\n        \"std\": 0.553188025229254,\n        \"min\": -1.0,\n        \"max\": 2.0,\n        \"num_unique_values\": 4,\n        \"samples\": [\n          0.0,\n          2.0\n        ],\n        \"semantic_type\": \"\",\n        \"description\": \"\"\n      }\n    },\n    {\n      \"column\": \"HasCrCard\",\n      \"properties\": {\n        \"dtype\": \"number\",\n        \"std\": 0,\n        \"min\": 0,\n        \"max\": 1,\n        \"num_unique_values\": 2,\n        \"samples\": [\n          1,\n          0\n        ],\n        \"semantic_type\": \"\",\n        \"description\": \"\"\n      }\n    },\n    {\n      \"column\": \"IsActiveMember\",\n      \"properties\": {\n        \"dtype\": \"number\",\n        \"std\": 0,\n        \"min\": 0,\n        \"max\": 1,\n        \"num_unique_values\": 2,\n        \"samples\": [\n          0,\n          1\n        ],\n        \"semantic_type\": \"\",\n        \"description\": \"\"\n      }\n    },\n    {\n      \"column\": \"EstimatedSalary\",\n      \"properties\": {\n        \"dtype\": \"number\",\n        \"std\": 0.24973966026566452,\n        \"min\": 0.0,\n        \"max\": 0.9998042313040894,\n        \"num_unique_values\": 6376,\n        \"samples\": [\n          0.5356222019202833,\n          0.5784983465920995\n        ],\n        \"semantic_type\": \"\",\n        \"description\": \"\"\n      }\n    },\n    {\n      \"column\": \"Geography_France\",\n      \"properties\": {\n        \"dtype\": \"number\",\n        \"std\": 0.49548594807275687,\n        \"min\": 0.0,\n        \"max\": 1.0,\n        \"num_unique_values\": 2,\n        \"samples\": [\n          0.0,\n          1.0\n        ],\n        \"semantic_type\": \"\",\n        \"description\": \"\"\n      }\n    },\n    {\n      \"column\": \"Geography_Germany\",\n      \"properties\": {\n        \"dtype\": \"number\",\n        \"std\": 0.4068211504189551,\n        \"min\": 0.0,\n        \"max\": 1.0,\n        \"num_unique_values\": 2,\n        \"samples\": [\n          1.0,\n          0.0\n        ],\n        \"semantic_type\": \"\",\n        \"description\": \"\"\n      }\n    },\n    {\n      \"column\": \"Geography_Spain\",\n      \"properties\": {\n        \"dtype\": \"number\",\n        \"std\": 0.41658996732626485,\n        \"min\": 0.0,\n        \"max\": 1.0,\n        \"num_unique_values\": 2,\n        \"samples\": [\n          1.0,\n          0.0\n        ],\n        \"semantic_type\": \"\",\n        \"description\": \"\"\n      }\n    }\n  ]\n}",
              "type": "dataframe",
              "variable_name": "x_test"
            },
            "text/html": [
              "\n",
              "  <div id=\"df-f94d2b8d-b703-44d6-b585-5ec9b8b9a1d0\" class=\"colab-df-container\">\n",
              "    <div>\n",
              "<style scoped>\n",
              "    .dataframe tbody tr th:only-of-type {\n",
              "        vertical-align: middle;\n",
              "    }\n",
              "\n",
              "    .dataframe tbody tr th {\n",
              "        vertical-align: top;\n",
              "    }\n",
              "\n",
              "    .dataframe thead th {\n",
              "        text-align: right;\n",
              "    }\n",
              "</style>\n",
              "<table border=\"1\" class=\"dataframe\">\n",
              "  <thead>\n",
              "    <tr style=\"text-align: right;\">\n",
              "      <th></th>\n",
              "      <th>index</th>\n",
              "      <th>CreditScore</th>\n",
              "      <th>Gender</th>\n",
              "      <th>Age</th>\n",
              "      <th>Tenure</th>\n",
              "      <th>Balance</th>\n",
              "      <th>NumOfProducts</th>\n",
              "      <th>HasCrCard</th>\n",
              "      <th>IsActiveMember</th>\n",
              "      <th>EstimatedSalary</th>\n",
              "      <th>Geography_France</th>\n",
              "      <th>Geography_Germany</th>\n",
              "      <th>Geography_Spain</th>\n",
              "    </tr>\n",
              "  </thead>\n",
              "  <tbody>\n",
              "    <tr>\n",
              "      <th>0</th>\n",
              "      <td>22930</td>\n",
              "      <td>1.132743</td>\n",
              "      <td>1</td>\n",
              "      <td>-0.1</td>\n",
              "      <td>0.6</td>\n",
              "      <td>0.716648</td>\n",
              "      <td>-1.0</td>\n",
              "      <td>0</td>\n",
              "      <td>1</td>\n",
              "      <td>0.506849</td>\n",
              "      <td>1.0</td>\n",
              "      <td>0.0</td>\n",
              "      <td>0.0</td>\n",
              "    </tr>\n",
              "  </tbody>\n",
              "</table>\n",
              "</div>\n",
              "    <div class=\"colab-df-buttons\">\n",
              "\n",
              "  <div class=\"colab-df-container\">\n",
              "    <button class=\"colab-df-convert\" onclick=\"convertToInteractive('df-f94d2b8d-b703-44d6-b585-5ec9b8b9a1d0')\"\n",
              "            title=\"Convert this dataframe to an interactive table.\"\n",
              "            style=\"display:none;\">\n",
              "\n",
              "  <svg xmlns=\"http://www.w3.org/2000/svg\" height=\"24px\" viewBox=\"0 -960 960 960\">\n",
              "    <path d=\"M120-120v-720h720v720H120Zm60-500h600v-160H180v160Zm220 220h160v-160H400v160Zm0 220h160v-160H400v160ZM180-400h160v-160H180v160Zm440 0h160v-160H620v160ZM180-180h160v-160H180v160Zm440 0h160v-160H620v160Z\"/>\n",
              "  </svg>\n",
              "    </button>\n",
              "\n",
              "  <style>\n",
              "    .colab-df-container {\n",
              "      display:flex;\n",
              "      gap: 12px;\n",
              "    }\n",
              "\n",
              "    .colab-df-convert {\n",
              "      background-color: #E8F0FE;\n",
              "      border: none;\n",
              "      border-radius: 50%;\n",
              "      cursor: pointer;\n",
              "      display: none;\n",
              "      fill: #1967D2;\n",
              "      height: 32px;\n",
              "      padding: 0 0 0 0;\n",
              "      width: 32px;\n",
              "    }\n",
              "\n",
              "    .colab-df-convert:hover {\n",
              "      background-color: #E2EBFA;\n",
              "      box-shadow: 0px 1px 2px rgba(60, 64, 67, 0.3), 0px 1px 3px 1px rgba(60, 64, 67, 0.15);\n",
              "      fill: #174EA6;\n",
              "    }\n",
              "\n",
              "    .colab-df-buttons div {\n",
              "      margin-bottom: 4px;\n",
              "    }\n",
              "\n",
              "    [theme=dark] .colab-df-convert {\n",
              "      background-color: #3B4455;\n",
              "      fill: #D2E3FC;\n",
              "    }\n",
              "\n",
              "    [theme=dark] .colab-df-convert:hover {\n",
              "      background-color: #434B5C;\n",
              "      box-shadow: 0px 1px 3px 1px rgba(0, 0, 0, 0.15);\n",
              "      filter: drop-shadow(0px 1px 2px rgba(0, 0, 0, 0.3));\n",
              "      fill: #FFFFFF;\n",
              "    }\n",
              "  </style>\n",
              "\n",
              "    <script>\n",
              "      const buttonEl =\n",
              "        document.querySelector('#df-f94d2b8d-b703-44d6-b585-5ec9b8b9a1d0 button.colab-df-convert');\n",
              "      buttonEl.style.display =\n",
              "        google.colab.kernel.accessAllowed ? 'block' : 'none';\n",
              "\n",
              "      async function convertToInteractive(key) {\n",
              "        const element = document.querySelector('#df-f94d2b8d-b703-44d6-b585-5ec9b8b9a1d0');\n",
              "        const dataTable =\n",
              "          await google.colab.kernel.invokeFunction('convertToInteractive',\n",
              "                                                    [key], {});\n",
              "        if (!dataTable) return;\n",
              "\n",
              "        const docLinkHtml = 'Like what you see? Visit the ' +\n",
              "          '<a target=\"_blank\" href=https://colab.research.google.com/notebooks/data_table.ipynb>data table notebook</a>'\n",
              "          + ' to learn more about interactive tables.';\n",
              "        element.innerHTML = '';\n",
              "        dataTable['output_type'] = 'display_data';\n",
              "        await google.colab.output.renderOutput(dataTable, element);\n",
              "        const docLink = document.createElement('div');\n",
              "        docLink.innerHTML = docLinkHtml;\n",
              "        element.appendChild(docLink);\n",
              "      }\n",
              "    </script>\n",
              "  </div>\n",
              "\n",
              "    </div>\n",
              "  </div>\n"
            ],
            "text/plain": [
              "   index  CreditScore  Gender  Age  Tenure   Balance  NumOfProducts  \\\n",
              "0  22930     1.132743       1 -0.1     0.6  0.716648           -1.0   \n",
              "\n",
              "   HasCrCard  IsActiveMember  EstimatedSalary  Geography_France  \\\n",
              "0          0               1         0.506849               1.0   \n",
              "\n",
              "   Geography_Germany  Geography_Spain  \n",
              "0                0.0              0.0  "
            ]
          },
          "execution_count": 36,
          "metadata": {},
          "output_type": "execute_result"
        }
      ],
      "source": [
        "x_test.head(1)"
      ]
    },
    {
      "cell_type": "code",
      "execution_count": 37,
      "id": "CCjx5OY8vZY1",
      "metadata": {
        "colab": {
          "base_uri": "https://localhost:8080/"
        },
        "id": "CCjx5OY8vZY1",
        "outputId": "4e3ae6d5-fb3c-4537-bc38-356b8f7f0b10"
      },
      "outputs": [
        {
          "name": "stdout",
          "output_type": "stream",
          "text": [
            "<class 'pandas.core.frame.DataFrame'>\n",
            "RangeIndex: 33006 entries, 0 to 33005\n",
            "Data columns (total 13 columns):\n",
            " #   Column             Non-Null Count  Dtype  \n",
            "---  ------             --------------  -----  \n",
            " 0   index              33006 non-null  int64  \n",
            " 1   CreditScore        33006 non-null  float64\n",
            " 2   Gender             33006 non-null  int64  \n",
            " 3   Age                33006 non-null  float64\n",
            " 4   Tenure             33006 non-null  float64\n",
            " 5   Balance            33006 non-null  float64\n",
            " 6   NumOfProducts      33006 non-null  float64\n",
            " 7   HasCrCard          33006 non-null  int64  \n",
            " 8   IsActiveMember     33006 non-null  int64  \n",
            " 9   EstimatedSalary    33006 non-null  float64\n",
            " 10  Geography_France   33006 non-null  float64\n",
            " 11  Geography_Germany  33006 non-null  float64\n",
            " 12  Geography_Spain    33006 non-null  float64\n",
            "dtypes: float64(9), int64(4)\n",
            "memory usage: 3.3 MB\n"
          ]
        }
      ],
      "source": [
        "x_train.info()"
      ]
    },
    {
      "cell_type": "code",
      "execution_count": 38,
      "id": "TKukDC4-vdnX",
      "metadata": {
        "colab": {
          "base_uri": "https://localhost:8080/"
        },
        "id": "TKukDC4-vdnX",
        "outputId": "7baae076-7b80-44c5-a60e-249c8bff6875"
      },
      "outputs": [
        {
          "name": "stdout",
          "output_type": "stream",
          "text": [
            "<class 'pandas.core.frame.DataFrame'>\n",
            "RangeIndex: 8252 entries, 0 to 8251\n",
            "Data columns (total 13 columns):\n",
            " #   Column             Non-Null Count  Dtype  \n",
            "---  ------             --------------  -----  \n",
            " 0   index              8252 non-null   int64  \n",
            " 1   CreditScore        8252 non-null   float64\n",
            " 2   Gender             8252 non-null   int64  \n",
            " 3   Age                8252 non-null   float64\n",
            " 4   Tenure             8252 non-null   float64\n",
            " 5   Balance            8252 non-null   float64\n",
            " 6   NumOfProducts      8252 non-null   float64\n",
            " 7   HasCrCard          8252 non-null   int64  \n",
            " 8   IsActiveMember     8252 non-null   int64  \n",
            " 9   EstimatedSalary    8252 non-null   float64\n",
            " 10  Geography_France   8252 non-null   float64\n",
            " 11  Geography_Germany  8252 non-null   float64\n",
            " 12  Geography_Spain    8252 non-null   float64\n",
            "dtypes: float64(9), int64(4)\n",
            "memory usage: 838.2 KB\n"
          ]
        }
      ],
      "source": [
        "x_test.info()"
      ]
    },
    {
      "cell_type": "code",
      "execution_count": 39,
      "id": "Bsj2bvMJxgVs",
      "metadata": {
        "colab": {
          "base_uri": "https://localhost:8080/"
        },
        "id": "Bsj2bvMJxgVs",
        "outputId": "edc942b2-b90c-4c96-e1a0-148f6a95c15f"
      },
      "outputs": [
        {
          "data": {
            "text/plain": [
              "Index(['index', 'CreditScore', 'Gender', 'Age', 'Tenure', 'Balance',\n",
              "       'NumOfProducts', 'HasCrCard', 'IsActiveMember', 'EstimatedSalary',\n",
              "       'Geography_France', 'Geography_Germany', 'Geography_Spain'],\n",
              "      dtype='object')"
            ]
          },
          "execution_count": 39,
          "metadata": {},
          "output_type": "execute_result"
        }
      ],
      "source": [
        "x_train.columns"
      ]
    },
    {
      "cell_type": "code",
      "execution_count": 40,
      "id": "BiXEF-ndZtT8",
      "metadata": {
        "colab": {
          "base_uri": "https://localhost:8080/"
        },
        "id": "BiXEF-ndZtT8",
        "outputId": "b8ed14e6-62ac-4b92-d676-3a22cf4e259f"
      },
      "outputs": [
        {
          "name": "stdout",
          "output_type": "stream",
          "text": [
            "<class 'pandas.core.series.Series'>\n",
            "Index: 8252 entries, 22930 to 28660\n",
            "Series name: churn\n",
            "Non-Null Count  Dtype\n",
            "--------------  -----\n",
            "8252 non-null   int64\n",
            "dtypes: int64(1)\n",
            "memory usage: 128.9 KB\n"
          ]
        }
      ],
      "source": [
        "y_test.info()"
      ]
    },
    {
      "cell_type": "code",
      "execution_count": 41,
      "id": "n2s_6jqcZvgc",
      "metadata": {
        "colab": {
          "base_uri": "https://localhost:8080/"
        },
        "id": "n2s_6jqcZvgc",
        "outputId": "f3ade8d7-06d9-4089-a536-0865795ccf3e"
      },
      "outputs": [
        {
          "name": "stdout",
          "output_type": "stream",
          "text": [
            "<class 'pandas.core.series.Series'>\n",
            "Index: 33006 entries, 15731 to 15795\n",
            "Series name: churn\n",
            "Non-Null Count  Dtype\n",
            "--------------  -----\n",
            "33006 non-null  int64\n",
            "dtypes: int64(1)\n",
            "memory usage: 515.7 KB\n"
          ]
        }
      ],
      "source": [
        "y_train.info()"
      ]
    },
    {
      "cell_type": "markdown",
      "id": "5gEtVMSSvXCC",
      "metadata": {
        "id": "5gEtVMSSvXCC"
      },
      "source": [
        "The data types has been changed and we can continue to the EDA"
      ]
    },
    {
      "cell_type": "markdown",
      "id": "y-Vn3hKuBDin",
      "metadata": {
        "id": "y-Vn3hKuBDin"
      },
      "source": [
        "### Exploratory Data Analysis"
      ]
    },
    {
      "cell_type": "code",
      "execution_count": 42,
      "id": "IBaLlE4PBH2_",
      "metadata": {
        "colab": {
          "base_uri": "https://localhost:8080/",
          "height": 678
        },
        "id": "IBaLlE4PBH2_",
        "outputId": "18a2f9be-2de0-42bc-bb03-479f40cfcdd2"
      },
      "outputs": [
        {
          "data": {
            "image/png": "[encoded data removed]",
            "text/plain": [
              "<Figure size 700x600 with 2 Axes>"
            ]
          },
          "metadata": {},
          "output_type": "display_data"
        }
      ],
      "source": [
        "plt.figure(figsize=(7, 6))\n",
        "sns.heatmap(x_train.corr(), annot=True, cmap='coolwarm', fmt=\".2f\")\n",
        "plt.title('Correlation Matrix')\n",
        "plt.show()"
      ]
    },
    {
      "cell_type": "markdown",
      "id": "Iq1iRVuRxn_g",
      "metadata": {
        "id": "Iq1iRVuRxn_g"
      },
      "source": [
        "Based on the correlation plot there are this insight:\n",
        "- `Balance` and `Geography_Germany` has high correlation with 0.54 value\n",
        "<br><br>\n",
        "The other columns have low correlation to one another unlike `Balance` and `Geography_Germany`."
      ]
    },
    {
      "cell_type": "code",
      "execution_count": 43,
      "id": "6oQ9yTCoxYBI",
      "metadata": {
        "colab": {
          "base_uri": "https://localhost:8080/",
          "height": 807
        },
        "id": "6oQ9yTCoxYBI",
        "outputId": "32e9f449-30d5-4ba2-8dba-1da91ac841bc"
      },
      "outputs": [
        {
          "data": {
            "image/png": "[encoded data removed]",
            "text/plain": [
              "<Figure size 1000x800 with 12 Axes>"
            ]
          },
          "metadata": {},
          "output_type": "display_data"
        }
      ],
      "source": [
        "cols = ['CreditScore', 'Gender', 'Age', 'Tenure', 'Balance', 'NumOfProducts',\n",
        "       'HasCrCard', 'IsActiveMember', 'EstimatedSalary', 'Geography_France', 'Geography_Germany', 'Geography_Spain']\n",
        "x_train[cols].hist(figsize=(10, 8), grid=False, color='rosybrown', edgecolor='black')\n",
        "plt.tight_layout()\n",
        "plt.show()"
      ]
    },
    {
      "cell_type": "markdown",
      "id": "4_Sx86xTxqC_",
      "metadata": {
        "id": "4_Sx86xTxqC_"
      },
      "source": [
        "- `CreditScore` exhibits a normally skewed distribution.\n",
        "- `Gender` is predominantly represented by males.\n",
        "- `Age` shows a left-skewed distribution, particularly in the 30-40 age range.\n",
        "- `Tenure` displays an almost even distribution with a noticeable peak in the 9-10 year range.\n",
        "- `Balance` demonstrates a normally skewed distribution, with a notable peak at zero balance.\n",
        "- `NumOfProducts` is dominated by the value 2.\n",
        "- `HasCrCrd` indicates a higher number of customers with credit cards compared to those without.\n",
        "- `IsActiveMember` shows an even distribution between the values 0 and 1.\n",
        "- `EstimatedSalary` is right-skewed, particularly in the range of 100,000 to 150,000.\n",
        "- Among the `Geography` columns, Germany and Spain have the highest counts, with over 20,000, while France has just over 15,000 counts."
      ]
    },
    {
      "cell_type": "markdown",
      "id": "rynpQdlyx_Rl",
      "metadata": {
        "id": "rynpQdlyx_Rl"
      },
      "source": [
        "### Model"
      ]
    },
    {
      "cell_type": "markdown",
      "id": "NT2cDPZOcNFo",
      "metadata": {
        "id": "NT2cDPZOcNFo"
      },
      "source": [
        "I'll be implementing two models for comparison: a `Random Forest Classifier` and an `XGBoost` model. To optimize their performance, I'll conduct tuning on their parameters and hyperparameters. This approach aims to identify the best configuration for each model, allowing me to choose the most effective one for deployment in the future."
      ]
    },
    {
      "cell_type": "markdown",
      "id": "kirIR1npyj0a",
      "metadata": {
        "id": "kirIR1npyj0a"
      },
      "source": [
        "#### Random Forest"
      ]
    },
    {
      "cell_type": "code",
      "execution_count": 44,
      "id": "GvwDgFe7ctku",
      "metadata": {
        "id": "GvwDgFe7ctku"
      },
      "outputs": [],
      "source": [
        "from sklearn.model_selection import GridSearchCV\n",
        "from sklearn.ensemble import RandomForestClassifier\n",
        "\n",
        "parameters = {\n",
        "    'criterion':['gini', 'entropy', 'log_loss'],\n",
        "    'max_depth':[4,6,8,10,12],\n",
        "}\n",
        "\n",
        "RF_class = RandomForestClassifier()\n",
        "RF_class = GridSearchCV(RF_class,\n",
        "                            param_grid = parameters,\n",
        "                            scoring='accuracy',\n",
        "                            cv=5)"
      ]
    },
    {
      "cell_type": "code",
      "execution_count": 45,
      "id": "lLeFgBHsdCW5",
      "metadata": {
        "colab": {
          "base_uri": "https://localhost:8080/"
        },
        "id": "lLeFgBHsdCW5",
        "outputId": "82568d5b-c0ca-4b4c-c0ed-0aa11131041a"
      },
      "outputs": [
        {
          "name": "stdout",
          "output_type": "stream",
          "text": [
            "Tuned Hyperparameters : {'criterion': 'entropy', 'max_depth': 10}\n",
            "Accuracy : 0.8609342419683319\n"
          ]
        }
      ],
      "source": [
        "RF_class.fit(x_train,y_train)\n",
        "print(\"Tuned Hyperparameters :\", RF_class.best_params_)\n",
        "print(\"Accuracy :\",RF_class.best_score_)"
      ]
    },
    {
      "cell_type": "code",
      "execution_count": 47,
      "id": "I8v7phGvfDxo",
      "metadata": {
        "colab": {
          "base_uri": "https://localhost:8080/"
        },
        "id": "I8v7phGvfDxo",
        "outputId": "0807bcc4-83ea-44cb-d273-b999c4dbb0e4"
      },
      "outputs": [
        {
          "name": "stdout",
          "output_type": "stream",
          "text": [
            "\n",
            "Classification Report\n",
            "\n",
            "              precision    recall  f1-score   support\n",
            "\n",
            "           0       0.87      0.96      0.92      6431\n",
            "           1       0.79      0.51      0.62      1821\n",
            "\n",
            "    accuracy                           0.86      8252\n",
            "   macro avg       0.83      0.74      0.77      8252\n",
            "weighted avg       0.85      0.86      0.85      8252\n",
            "\n"
          ]
        }
      ],
      "source": [
        "from sklearn.metrics import classification_report\n",
        "RF_class_best = RandomForestClassifier(criterion= 'entropy',max_depth=10)\n",
        "RF_class_best.fit(x_train,y_train)\n",
        "y_predict_best = RF_class_best.predict(x_test)\n",
        "print('\\nClassification Report\\n')\n",
        "print(classification_report(y_test, y_predict_best, target_names=['0','1']))"
      ]
    },
    {
      "cell_type": "markdown",
      "id": "Mqv0spIPyiIe",
      "metadata": {
        "id": "Mqv0spIPyiIe"
      },
      "source": [
        "#### XGBoost"
      ]
    },
    {
      "cell_type": "code",
      "execution_count": 49,
      "id": "chSqLXy9ySam",
      "metadata": {
        "colab": {
          "base_uri": "https://localhost:8080/"
        },
        "id": "chSqLXy9ySam",
        "outputId": "c03b50d5-c629-4a7f-fa14-096d8ac8abbf"
      },
      "outputs": [
        {
          "name": "stdout",
          "output_type": "stream",
          "text": [
            "Best parameters found:  {'colsample_bytree': 1.0, 'gamma': 0.1, 'learning_rate': 0.1, 'max_depth': 3, 'n_estimators': 100, 'subsample': 0.8}\n",
            "Best accuracy found:  0.8644791856026176\n"
          ]
        }
      ],
      "source": [
        "import xgboost as xgb\n",
        "\n",
        "xgb_model = xgb.XGBClassifier()\n",
        "\n",
        "param_grid = {\n",
        "    'max_depth': [3, 4, 5],\n",
        "    'learning_rate': [0.1, 0.01, 0.001],\n",
        "    'n_estimators': [100, 150, 300],\n",
        "    'gamma': [0, 0.1, 0.2],\n",
        "    'subsample': [0.8, 1.0],\n",
        "    'colsample_bytree': [0.8, 1.0]\n",
        "}\n",
        "\n",
        "xgb_best = GridSearchCV(estimator=xgb_model, param_grid=param_grid, cv=3, scoring='accuracy', n_jobs=-1)\n",
        "xgb_best.fit(x_train, y_train)\n",
        "\n",
        "print(\"Best parameters found: \", xgb_best.best_params_)\n",
        "print(\"Best accuracy found: \", xgb_best.best_score_)"
      ]
    },
    {
      "cell_type": "code",
      "execution_count": 50,
      "id": "pziFBbl4ymgp",
      "metadata": {
        "colab": {
          "base_uri": "https://localhost:8080/"
        },
        "id": "pziFBbl4ymgp",
        "outputId": "87e1c336-fcec-4e94-8e9a-45f43e4b66a8"
      },
      "outputs": [
        {
          "name": "stdout",
          "output_type": "stream",
          "text": [
            "\n",
            "Classification Report XGBoost\n",
            "\n",
            "              precision    recall  f1-score   support\n",
            "\n",
            "           0       0.88      0.95      0.92      6431\n",
            "           1       0.77      0.54      0.64      1821\n",
            "\n",
            "    accuracy                           0.86      8252\n",
            "   macro avg       0.83      0.75      0.78      8252\n",
            "weighted avg       0.86      0.86      0.85      8252\n",
            "\n"
          ]
        }
      ],
      "source": [
        "best_xgb_model = xgb_best.best_estimator_\n",
        "\n",
        "y_pred_XGbest = best_xgb_model.predict(x_test)\n",
        "\n",
        "print('\\nClassification Report XGBoost\\n')\n",
        "print(classification_report(y_test, y_pred_XGbest, target_names=['0', '1']))"
      ]
    }
  ],
  "metadata": {
    "accelerator": "GPU",
    "colab": {
      "gpuType": "T4",
      "provenance": []
    },
    "kernelspec": {
      "display_name": "Python 3",
      "name": "python3"
    },
    "language_info": {
      "codemirror_mode": {
        "name": "ipython",
        "version": 3
      },
      "file_extension": ".py",
      "mimetype": "text/x-python",
      "name": "python",
      "nbconvert_exporter": "python",
      "pygments_lexer": "ipython3",
      "version": "3.9.12"
    }
  },
  "nbformat": 4,
  "nbformat_minor": 5
}
